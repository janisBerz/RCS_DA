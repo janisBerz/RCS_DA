{
 "cells": [
  {
   "cell_type": "code",
   "execution_count": 3,
   "id": "28a5fbe1-0d88-4d04-8ecb-2a4f9cc3b6c4",
   "metadata": {},
   "outputs": [],
   "source": [
    "import numpy as np\n",
    "import os\n",
    "import pandas as pd"
   ]
  },
  {
   "cell_type": "code",
   "execution_count": 70,
   "id": "1a4dd47f",
   "metadata": {},
   "outputs": [],
   "source": [
    "### 1. uzdevums\n",
    "# izveidot masīvu mas1 [0,1,2,3,4,5,6,7,8]. Atlasīt tikai pāra skaitļus, izmantojot nosacījumu mas1%2==0\n",
    "\n",
    "mas1 = np.arange(9)\n",
    "mas1 = mas1[mas1 % 2 == 0]"
   ]
  },
  {
   "cell_type": "code",
   "execution_count": 71,
   "id": "9e47e60c",
   "metadata": {},
   "outputs": [
    {
     "data": {
      "text/plain": [
       "array(['b', 'c', 'e'], dtype='<U1')"
      ]
     },
     "execution_count": 71,
     "metadata": {},
     "output_type": "execute_result"
    }
   ],
   "source": [
    "### 2. uzdevums\n",
    "# Doti divi masīvi mas1 un mas2, kur mas2 vienmēr ir skatiliskās vērtības. Piemēram,\n",
    "\n",
    "# mas1 = ['a','b','c','e','w']\n",
    "# mas2 = [1,2,3]\n",
    "\n",
    "# Uzrakstīt funkciju, kurā rezultātā ir masīvs ar mas1 elementiem, ņemot indeksus pēc mas2, t.i.,\n",
    "# res = ['b','c','e']\n",
    "\n",
    "mas1 = ['a','b','c','e','w']\n",
    "mas2 = [1,2,3]\n",
    "\n",
    "def join_ (mas1, mas2):\n",
    "    return np.array(mas1)[mas2]\n",
    "\n",
    "join_(mas1, mas2)"
   ]
  },
  {
   "cell_type": "code",
   "execution_count": 72,
   "id": "e12f809b",
   "metadata": {},
   "outputs": [
    {
     "data": {
      "text/plain": [
       "['man', 'zero', 'teksts', 'sestdiena']"
      ]
     },
     "execution_count": 72,
     "metadata": {},
     "output_type": "execute_result"
    }
   ],
   "source": [
    "### 3. uzdevums\n",
    "# Dots masīvs ar teksta elementiem. Izveidot jaunu masīvu ar sakārtotiem pēc garuma elementiem. Piemēram,\n",
    "# mas1 = ['teksts','man','zero','sestdiena']\n",
    "# result = ['man','zero','teksts','sestdiena']\n",
    "# Var izveidot masīvu ar tuple elementiem (len(elementa garums),elements)\n",
    "\n",
    "mas1 = ['teksts','man','zero','sestdiena']\n",
    "result = ['man','zero','teksts','sestdiena']\n",
    "\n",
    "sorted(mas1, key=len)"
   ]
  },
  {
   "cell_type": "code",
   "execution_count": 4,
   "id": "5dc9310e",
   "metadata": {},
   "outputs": [
    {
     "data": {
      "text/plain": [
       "array([[3, 1, 7],\n",
       "       [8, 1, 1],\n",
       "       [3, 1, 6]])"
      ]
     },
     "execution_count": 4,
     "metadata": {},
     "output_type": "execute_result"
    }
   ],
   "source": [
    "### 4. uzdevums\n",
    "# Dots divdimensionāls masīvs. Izdzēst otro kolonnu un tā vietā ielikt citu definēto masīvu.\n",
    "# Piemēram: \n",
    "# mas = np.array([[3,4,7],[8,2,1],[3,4,6]])\n",
    "# mas_insert = np.array([1,1,1])\n",
    "# rezultats:\n",
    "#     np.array([[3,1,7],[8,1,1],[3,1,6]])\n",
    "\n",
    "mas = np.array([[3,4,7],[8,2,1],[3,4,6]])\n",
    "mas_insert = np.array([1,1,1])\n",
    "mas[:, 1] = mas_insert\n",
    "mas"
   ]
  }
 ],
 "metadata": {
  "kernelspec": {
   "display_name": "Python 3 (ipykernel)",
   "language": "python",
   "name": "python3"
  },
  "language_info": {
   "codemirror_mode": {
    "name": "ipython",
    "version": 3
   },
   "file_extension": ".py",
   "mimetype": "text/x-python",
   "name": "python",
   "nbconvert_exporter": "python",
   "pygments_lexer": "ipython3",
   "version": "3.7.17"
  }
 },
 "nbformat": 4,
 "nbformat_minor": 5
}
