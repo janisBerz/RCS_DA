{
 "cells": [
  {
   "cell_type": "markdown",
   "id": "38cdf152-768b-4e72-bbb2-12bef3d2fbea",
   "metadata": {},
   "source": [
    " - Noskaidrot Python versija, kura pašlaik tiek lietota / papildus ja var izvadīt tikai python versiju tas pēc šāda piemēra 3.0.0\n",
    " - Piešķir mainīgajam x vērtību \"1252\" (kā String), pārkonvertē uz int, izdrukā to uz ekrāna (lietojot print).\n",
    " - Cik pilnas reizes 25 ieiet x piešķirtajā vērtībā?\n",
    " - x vērtības dalījuma ar 25 atlikumu kāpini kvadrātā?\n",
    " - Nosaki un izdrukā uz ekrāna, cik ciparu skaitlis ir x vērtība.\n",
    " - Kāda ir skaitļa 43157 veidojošo ciparu maksimālā vērtība?\n",
    " - Izveidot sarakstu no 4 krāsām (jebkuras) un izprintēt pirmo un pēdējo krāsu sarakstā\n",
    " - Nomaini x vērtību uz: sia \"riga coding school\" un izdrukāt uz ekrāna.\n",
    " - Izmantojot iespējamās string metodes transformē x vērtību uz \"Riga Coding School SIA\" (piešķir jauno vērtību mainīgajam x).  \n",
    "(vienkārši prasītās vērtības piešķiršana mainīgajam x šajā gadījumā nebūs pareizs risinājums 😉\n",
    " - Izdrukā uz ekrāna, cik \"o\" burti ir dotajā nosaukumā?\n",
    " - Izdrukā uz ekrāna, cik vārdi ir dotajā nosaukumā?\n",
    " - Ekstraktēt no x vērtības un izdrukā uz ekrāna tikai \"Coding School\".\n",
    " - Pārbaudi vai mainīgā y vērtība ir (daļa) mainīgajā x.\n",
    "x = 'sia \"Riga Coding School\"'\n",
    "y = \"coding\" - Izdrukāt uz ekrāna mainīgā x tekstā esošos vārdus (Riga Coding School SIA) reversā secībā.\n",
    " - Apvieno divus sarakstus (lists) vienā (, kura kopējais garums ir abu sarakstu garuma summa).\n",
    "f_list = [1, 2, 3]\n",
    "s_list = [4, 5, 6\n",
    " - Pievieno pirmajam sarakstam otro kā 1 elementu.\n",
    " - Saskaiti my_list pirmo elementu un pēdējā elementa pēdējo elementu.\n",
    "   my_list = [1, 2, 3, [4, 5, 6]]\n",
    " - Dotas vārdnīcas:\n",
    "d1={1:15, 2:25} \n",
    "d2={3:30, 4:40} \n",
    "d3={5:45,6:65}\n",
    "\n",
    "Jāiegūst vārdnīca:\n",
    "d1 =  {1: 15, 2: 25, 3: 30, 4: 40, 5: 45, \n",
    " - Definē vārdnīcu\n",
    "\n",
    "`\n",
    "students = {\n",
    "    1: \"Kārlis\",\n",
    "    2: \"Dace\",\n",
    "    3: \"Edgars\",\n",
    "    4: \"Anastasija\",\n",
    "    5: \"Ev\n",
    " - Cik kopā ir dalībnieku?\n",
    " - Pievieno jaunu dalībnieku: Uldis\n",
    " - Vai starp studentiem (vērtībām) ir Anna?ija\"\n",
    "}\n",
    "`6: 65}]\n",
    ")"
   ]
  },
  {
   "cell_type": "code",
   "execution_count": 2,
   "id": "72a256c8",
   "metadata": {},
   "outputs": [
    {
     "name": "stdout",
     "output_type": "stream",
     "text": [
      "3.11.7\n",
      "3.11.7\n"
     ]
    }
   ],
   "source": [
    "# - Noskaidrot Python versija, kura pašlaik tiek lietota / papildus ja var izvadīt tikai python versiju tas pēc šāda piemēra 3.0.0\n",
    "\n",
    "import sys\n",
    "\n",
    "version = sys.version_info\n",
    "print(f'{version.major}.{version.minor}.{version.micro}')\n",
    "\n",
    "from platform import python_version\n",
    "\n",
    "print(python_version())"
   ]
  },
  {
   "cell_type": "code",
   "execution_count": 11,
   "id": "80f742d7",
   "metadata": {},
   "outputs": [
    {
     "name": "stdout",
     "output_type": "stream",
     "text": [
      "1252\n",
      "<class 'int'>\n"
     ]
    }
   ],
   "source": [
    "# - Piešķir mainīgajam x vērtību \"1252\" (kā String), pārkonvertē uz int, izdrukā to uz ekrāna (lietojot print).\n",
    "\n",
    "x = \"1252\"\n",
    "x = int(x)\n",
    "print(x)\n",
    "print(type(x))"
   ]
  },
  {
   "cell_type": "code",
   "execution_count": 6,
   "id": "b1ef0b9c",
   "metadata": {},
   "outputs": [
    {
     "name": "stdout",
     "output_type": "stream",
     "text": [
      "25 fits in 101 full 4 times\n",
      "4\n"
     ]
    }
   ],
   "source": [
    "#- Cik pilnas reizes 25 ieiet x piešķirtajā vērtībā?\n",
    "\n",
    "x = 101\n",
    "y = 25\n",
    "z = x\n",
    "count = 0\n",
    "\n",
    "while x >= y:\n",
    "    x = x - y\n",
    "    count += 1\n",
    "\n",
    "print(f'{y} fits in {z} full {count} times')\n",
    "\n",
    "x = 101\n",
    "y = 25 \n",
    "times = x // y\n",
    "\n",
    "print(x // y)"
   ]
  },
  {
   "cell_type": "code",
   "execution_count": 27,
   "id": "79bc0ef8",
   "metadata": {},
   "outputs": [
    {
     "name": "stdout",
     "output_type": "stream",
     "text": [
      "4\n"
     ]
    }
   ],
   "source": [
    "#  - x vērtības dalījuma ar 25 atlikumu kāpini kvadrātā?\n",
    "\n",
    "x = 102\n",
    "y = 25\n",
    "\n",
    "z = (x % y) **2\n",
    "print(z)"
   ]
  },
  {
   "cell_type": "code",
   "execution_count": 7,
   "id": "0d2728ac",
   "metadata": {},
   "outputs": [
    {
     "name": "stdout",
     "output_type": "stream",
     "text": [
      "4\n"
     ]
    }
   ],
   "source": [
    "#  - Nosaki un izdrukā uz ekrāna, cik ciparu skaitlis ir x vērtība.\n",
    "\n",
    "c = 3446\n",
    "c = str(c)\n",
    "print(len(c))"
   ]
  },
  {
   "cell_type": "code",
   "execution_count": 8,
   "id": "a9e9392a",
   "metadata": {},
   "outputs": [
    {
     "name": "stdout",
     "output_type": "stream",
     "text": [
      "20\n",
      "7\n"
     ]
    }
   ],
   "source": [
    "#  - Kāda ir skaitļa 43157 veidojošo ciparu maksimālā vērtība?\n",
    "\n",
    "c = 43157\n",
    "c = str(c)\n",
    "d = 0\n",
    "\n",
    "for s in c:\n",
    "    d += int(s)\n",
    "\n",
    "print(d)\n",
    "\n",
    "print(max(c))"
   ]
  },
  {
   "cell_type": "code",
   "execution_count": 49,
   "id": "3f2f5d42",
   "metadata": {},
   "outputs": [
    {
     "name": "stdout",
     "output_type": "stream",
     "text": [
      "black:white\n"
     ]
    }
   ],
   "source": [
    "#  - Izveidot sarakstu no 4 krāsām (jebkuras) un izprintēt pirmo un pēdējo krāsu sarakstā\n",
    "\n",
    "a = (\"black\", \"blue\", \"green\", \"white\")\n",
    "print(f'{a[0]}:{a[-1]}')"
   ]
  },
  {
   "cell_type": "code",
   "execution_count": 17,
   "id": "182ebf88",
   "metadata": {},
   "outputs": [
    {
     "name": "stdout",
     "output_type": "stream",
     "text": [
      "sia \"riga coding school\"\n",
      "sia \"riga coding school\"\n",
      "Sia Riga Coding School\n",
      "Sia Riga Coding School\n",
      "SIA\n",
      "Riga Coding School\n"
     ]
    }
   ],
   "source": [
    "#  - Nomaini x vērtību uz: sia \"riga coding school\" un izdrukāt uz ekrāna.\n",
    "\n",
    "x = \"\"\n",
    "x = \"sia \\\"riga coding school\\\"\"\n",
    "print(x)\n",
    "\n",
    "x = 'sia \"riga coding school\"'\n",
    "print(x)\n",
    "\n",
    "x = \"sia riga coding school\"\n",
    "x = x.title()\n",
    "print(x)\n",
    "\n",
    "x = x.replace('\"', '')\n",
    "print(x)\n",
    "\n",
    "sia = x[:3].upper()\n",
    "print(sia)\n",
    "\n",
    "x = x.replace(x[:4], '')\n",
    "print(x)\n",
    "\n",
    "x = '\"' + ' ' + sia + '\"'\n",
    "print()\n"
   ]
  },
  {
   "cell_type": "code",
   "execution_count": 129,
   "id": "511176e0",
   "metadata": {},
   "outputs": [
    {
     "name": "stdout",
     "output_type": "stream",
     "text": [
      "Riga Coding School SIA\n"
     ]
    }
   ],
   "source": [
    "#  - Izmantojot iespējamās string metodes transformē x vērtību uz \"Riga Coding School SIA\" (piešķir jauno vērtību mainīgajam x).  \n",
    "\n",
    "x = 'sia \"riga coding school\"'\n",
    "x = x.split(' ')\n",
    "x = [x[1], x[2], x[3], x[0]]\n",
    "x = [x[0].replace('\"','').title(), x[1].title(), x[2].replace('\"','').title(), x[3].upper()]\n",
    "x = \" \".join(x)\n",
    "print(x)"
   ]
  },
  {
   "cell_type": "code",
   "execution_count": 18,
   "id": "23b1ca3f",
   "metadata": {},
   "outputs": [
    {
     "name": "stdout",
     "output_type": "stream",
     "text": [
      "3\n",
      "3\n"
     ]
    }
   ],
   "source": [
    "#  - Izdrukā uz ekrāna, cik \"o\" burti ir dotajā nosaukumā?\n",
    "x = \"sia riga coding school\"\n",
    "i = 0\n",
    "\n",
    "for c in x:\n",
    "    if c == \"o\":\n",
    "        i += 1\n",
    "print(i)\n",
    "\n",
    "### shorter\n",
    "x = \"sia riga coding school\"\n",
    "print(x.count('o'))"
   ]
  },
  {
   "cell_type": "code",
   "execution_count": 20,
   "id": "44e87174",
   "metadata": {},
   "outputs": [
    {
     "name": "stdout",
     "output_type": "stream",
     "text": [
      "sia riga coding school\n",
      "mums ir 4 vardi teikuma \"sia riga coding school\"\n"
     ]
    }
   ],
   "source": [
    "#  - Izdrukā uz ekrāna, cik vārdi ir dotajā nosaukumā?\n",
    "print(x)\n",
    "print(f'mums ir {len(x.split())} vardi teikuma \"{x}\"')"
   ]
  },
  {
   "cell_type": "code",
   "execution_count": 23,
   "id": "f053944d",
   "metadata": {},
   "outputs": [
    {
     "name": "stdout",
     "output_type": "stream",
     "text": [
      "riga school\n",
      "['coding', 'school']\n"
     ]
    }
   ],
   "source": [
    "#  - Ekstraktēt no x vērtības un izdrukā uz ekrāna tikai \"Coding School\".\n",
    "z = x.split()\n",
    "print(z[1], z[3])\n",
    "\n",
    "print(z[2:])"
   ]
  },
  {
   "cell_type": "code",
   "execution_count": 158,
   "id": "1bdf717a",
   "metadata": {},
   "outputs": [
    {
     "name": "stdout",
     "output_type": "stream",
     "text": [
      "12 ir dala no 130\n"
     ]
    },
    {
     "data": {
      "text/plain": [
       "False"
      ]
     },
     "execution_count": 158,
     "metadata": {},
     "output_type": "execute_result"
    }
   ],
   "source": [
    "###\n",
    "### Isti nesapratu kas te jadara.\n",
    "###\n",
    "\n",
    "\n",
    "#  - Pārbaudi vai mainīgā y vērtība ir (daļa) mainīgajā x.\n",
    "\n",
    "y = 12\n",
    "x = 130\n",
    "if x - y >= 0:\n",
    "    print(f\"{y} ir dala no {x}\")\n",
    "else:\n",
    "    print(f\"{y} nav dala no {x}\")\n",
    "    \n",
    "# - Pārbaudi vai mainīgā y vērtība ir (daļa) mainīgajā x.\n",
    "# x = 'sia \"Riga Coding School\"'\n",
    "# y = \"coding\" - Izdrukāt uz ekrāna mainīgā x tekstā esošos vārdus (Riga Coding School SIA) reversā secībā.\n",
    "\n",
    "\n",
    "x = 'sia \"Riga Coding School\"'\n",
    "y = \"coding\"\n",
    "\n",
    "y in x\n",
    "\n",
    "\n"
   ]
  },
  {
   "cell_type": "code",
   "execution_count": 26,
   "id": "1a8111cf",
   "metadata": {},
   "outputs": [
    {
     "name": "stdout",
     "output_type": "stream",
     "text": [
      "school coding riga sia\n"
     ]
    },
    {
     "data": {
      "text/plain": [
       "'loohcs gnidoc agir ais'"
      ]
     },
     "execution_count": 26,
     "metadata": {},
     "output_type": "execute_result"
    }
   ],
   "source": [
    "x = \"sia riga coding school\"\n",
    "\n",
    "r = x.split()\n",
    "\n",
    "r = ' '.join(reversed(r))\n",
    "print(r)\n",
    "\n",
    "x[::-1]"
   ]
  },
  {
   "cell_type": "code",
   "execution_count": 32,
   "id": "50a8c7ea",
   "metadata": {},
   "outputs": [
    {
     "data": {
      "text/plain": [
       "[1, 2, 3, 4, 5, 6]"
      ]
     },
     "execution_count": 32,
     "metadata": {},
     "output_type": "execute_result"
    }
   ],
   "source": [
    "# - Apvieno divus sarakstus (lists) vienā (, kura kopējais garums ir abu sarakstu garuma summa).\n",
    "# f_list = [1, 2, 3]\n",
    "# s_list = [4, 5, 6\n",
    "\n",
    "l1 = [1, 2, 3]\n",
    "l2 = [4, 5, 6]\n",
    "\n",
    "l3 = l1 + l2\n",
    "l3\n"
   ]
  },
  {
   "cell_type": "code",
   "execution_count": 33,
   "id": "6c922b1a",
   "metadata": {},
   "outputs": [
    {
     "name": "stdout",
     "output_type": "stream",
     "text": [
      "[1, 2, 3, [4, 5, 6]]\n"
     ]
    }
   ],
   "source": [
    "#  - Pievieno pirmajam sarakstam otro kā 1 elementu.\n",
    "\n",
    "l1.append(l2)\n",
    "print(l1)\n",
    "\n",
    "l1.extend([l2])"
   ]
  },
  {
   "cell_type": "code",
   "execution_count": 183,
   "id": "6e59b5a9",
   "metadata": {},
   "outputs": [
    {
     "data": {
      "text/plain": [
       "7"
      ]
     },
     "execution_count": 183,
     "metadata": {},
     "output_type": "execute_result"
    }
   ],
   "source": [
    "#  - Saskaiti my_list pirmo elementu un pēdējā elementa pēdējo elementu.\n",
    "#    my_list = [1, 2, 3, [4, 5, 6]]\n",
    "\n",
    "my_list = [1, 2, 3, [4, 5, 6]]\n",
    "my_list[0] + my_list[-1][-1]"
   ]
  },
  {
   "cell_type": "code",
   "execution_count": 55,
   "id": "b8f5d868",
   "metadata": {},
   "outputs": [
    {
     "name": "stdout",
     "output_type": "stream",
     "text": [
      "{1: 15, 2: 25, 3: 30, 4: 40, 5: 45, 6: 65}\n"
     ]
    },
    {
     "data": {
      "text/plain": [
       "{2: 25, 3: 30, 4: 40, 5: 45, 6: 65}"
      ]
     },
     "execution_count": 55,
     "metadata": {},
     "output_type": "execute_result"
    }
   ],
   "source": [
    "#  - Dotas vārdnīcas:\n",
    "# d1={1:15, 2:25} \n",
    "# d2={3:30, 4:40} \n",
    "# d3={5:45,6:65}\n",
    "# Jāiegūst vārdnīca:\n",
    "# d1 =  {1: 15, 2: 25, 3: 30, 4: 40, 5: 45, \n",
    "\n",
    "d1={1:15, 2:25}\n",
    "d2={3:30, 4:40}\n",
    "d3={5:45,6:65}\n",
    "\n",
    "dic = {**d1, **d2, **d3}\n",
    "print(dic)\n",
    "\n",
    "d1={1:15, 2:25}\n",
    "d2={3:30, 4:40}\n",
    "d3={5:45,6:65}\n",
    "\n",
    "d1.update(d2)\n",
    "d1.update(d3)\n",
    "\n",
    "d1.pop(1)\n",
    "d1\n",
    "\n"
   ]
  },
  {
   "cell_type": "code",
   "execution_count": 60,
   "id": "2e9028b6",
   "metadata": {},
   "outputs": [
    {
     "name": "stdout",
     "output_type": "stream",
     "text": [
      "<class 'dict'>\n"
     ]
    },
    {
     "data": {
      "text/plain": [
       "{1: 'Kārlis', 2: 'Dace', 3: 'Edgars', 4: 'Anastasija', 5: 'Ev', 6: 'Uldis'}"
      ]
     },
     "execution_count": 60,
     "metadata": {},
     "output_type": "execute_result"
    }
   ],
   "source": [
    "#  - Definē vārdnīcu\n",
    "\n",
    "# `\n",
    "# students = {\n",
    "#     1: \"Kārlis\",\n",
    "#     2: \"Dace\",\n",
    "#     3: \"Edgars\",\n",
    "#     4: \"Anastasija\",\n",
    "#     5: \"Ev\n",
    "#  - Cik kopā ir dalībnieku?\n",
    "#  - Pievieno jaunu dalībnieku: Uldis\n",
    "#  - Vai starp studentiem (vērtībām) ir Anna?ija\"\n",
    "# }\n",
    "# `6: 65}]\n",
    "# )\n",
    "\n",
    "students = {\n",
    "    1: \"Kārlis\",\n",
    "    2: \"Dace\",\n",
    "    3: \"Edgars\",\n",
    "    4: \"Anastasija\",\n",
    "    5: \"Ev\"\n",
    "    }\n",
    "\n",
    "print(type(students))\n",
    "\n",
    "len(students)\n",
    "students[6] = \"Uldis\"\n",
    "\n",
    "#\n",
    "# - Vai starp studentiem (vērtībām) ir Anna?ija\"\n",
    "#\n",
    "\"Dace\" in students.values()\n",
    "\n",
    "students\n"
   ]
  }
 ],
 "metadata": {
  "kernelspec": {
   "display_name": "Python 3 (ipykernel)",
   "language": "python",
   "name": "python3"
  },
  "language_info": {
   "codemirror_mode": {
    "name": "ipython",
    "version": 3
   },
   "file_extension": ".py",
   "mimetype": "text/x-python",
   "name": "python",
   "nbconvert_exporter": "python",
   "pygments_lexer": "ipython3",
   "version": "3.11.7"
  }
 },
 "nbformat": 4,
 "nbformat_minor": 5
}
