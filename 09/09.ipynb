{
 "cells": [
  {
   "cell_type": "code",
   "execution_count": 5,
   "metadata": {},
   "outputs": [],
   "source": [
    "import pandas as pd\n",
    "\n",
    "def read_csv_file(url):\n",
    "    df = pd.read_csv(url, sep=';')\n",
    "    return df\n",
    "\n",
    "csv = 'https://data.gov.lv/dati/dataset/e909312a-61c9-4cde-a72a-0a09dd75ef43/resource/d01a32c6-add8-4b8d-a013-0c35a3879564/download/eis_e_iepirkumi_rezultati_2021.csv'\n",
    "\n",
    "df = read_csv_file(csv)\n",
    "\n",
    "df.columns\n",
    "\n",
    "# Iznemt kolonnas nosaukumus\n",
    "\n",
    "df = df[['Iepirkuma_ID', ' Iepirkuma_nosaukums',\n",
    "       ' Iepirkuma_identifikacijas_numurs', ' Pasutitaja_nosaukums',\n",
    "       ' Pasutitaja_registracijas_numurs',\n",
    "       ' Pasutitaja_registracijas_numura_veids', ' Pasutitaja_PVS_ID',\n",
    "       ' Augstak_stavosa_organizacija', ' Iepirkuma_statuss',\n",
    "       ' Regulejasais_tiesibu_akts', ' Proceduras_veids',\n",
    "       ' Hipersaite_EIS_kura_pieejams_zinojums',\n",
    "       ' Hipersaite_uz_IUB_publikaciju', ' Ir_dalijums_dalas',\n",
    "       ' Iepirkuma_dalas_nr', ' Iepirkuma_dalas_nosaukums',\n",
    "       ' Iepirkuma_dalas_statuss', ' Uzvaretaja_nosaukums',\n",
    "       ' Uzvaretaja_registracijas_numurs']]"
   ]
  },
  {
   "cell_type": "code",
   "execution_count": 8,
   "metadata": {},
   "outputs": [
    {
     "name": "stdout",
     "output_type": "stream",
     "text": [
      "<class 'pandas.core.frame.DataFrame'>\n",
      "RangeIndex: 36352 entries, 0 to 36351\n",
      "Data columns (total 19 columns):\n",
      " #   Column                                  Non-Null Count  Dtype \n",
      "---  ------                                  --------------  ----- \n",
      " 0   Iepirkuma_ID                            36352 non-null  object\n",
      " 1    Iepirkuma_nosaukums                    36352 non-null  object\n",
      " 2    Iepirkuma_identifikacijas_numurs       36352 non-null  object\n",
      " 3    Pasutitaja_nosaukums                   36352 non-null  object\n",
      " 4    Pasutitaja_registracijas_numurs        36352 non-null  object\n",
      " 5    Pasutitaja_registracijas_numura_veids  36352 non-null  object\n",
      " 6    Pasutitaja_PVS_ID                      36352 non-null  object\n",
      " 7    Augstak_stavosa_organizacija           36352 non-null  object\n",
      " 8    Iepirkuma_statuss                      36352 non-null  object\n",
      " 9    Regulejasais_tiesibu_akts              36352 non-null  object\n",
      " 10   Proceduras_veids                       36352 non-null  object\n",
      " 11   Hipersaite_EIS_kura_pieejams_zinojums  36352 non-null  object\n",
      " 12   Hipersaite_uz_IUB_publikaciju          36352 non-null  object\n",
      " 13   Ir_dalijums_dalas                      36352 non-null  object\n",
      " 14   Iepirkuma_dalas_nr                     36352 non-null  object\n",
      " 15   Iepirkuma_dalas_nosaukums              36352 non-null  object\n",
      " 16   Iepirkuma_dalas_statuss                36352 non-null  object\n",
      " 17   Uzvaretaja_nosaukums                   36352 non-null  object\n",
      " 18   Uzvaretaja_registracijas_numurs        36352 non-null  object\n",
      "dtypes: object(19)\n",
      "memory usage: 5.3+ MB\n"
     ]
    },
    {
     "ename": "",
     "evalue": "",
     "output_type": "error",
     "traceback": [
      "\u001b[1;31mThe Kernel crashed while executing code in the current cell or a previous cell. \n",
      "\u001b[1;31mPlease review the code in the cell(s) to identify a possible cause of the failure. \n",
      "\u001b[1;31mClick <a href='https://aka.ms/vscodeJupyterKernelCrash'>here</a> for more info. \n",
      "\u001b[1;31mView Jupyter <a href='command:jupyter.viewOutput'>log</a> for further details."
     ]
    }
   ],
   "source": [
    "df.con"
   ]
  },
  {
   "cell_type": "code",
   "execution_count": null,
   "metadata": {},
   "outputs": [],
   "source": []
  }
 ],
 "metadata": {
  "kernelspec": {
   "display_name": "RCS",
   "language": "python",
   "name": "python3"
  },
  "language_info": {
   "codemirror_mode": {
    "name": "ipython",
    "version": 3
   },
   "file_extension": ".py",
   "mimetype": "text/x-python",
   "name": "python",
   "nbconvert_exporter": "python",
   "pygments_lexer": "ipython3",
   "version": "3.11.7"
  }
 },
 "nbformat": 4,
 "nbformat_minor": 2
}
