{
 "cells": [
  {
   "cell_type": "code",
   "execution_count": null,
   "metadata": {},
   "outputs": [],
   "source": [
    "weekdays = [\"Monday\", \"Tuesday\", \"Wednesday\", \"Thursday\", \"Friday\", \"Saturday\", \"Sunday\"]\n",
    "\n",
    "for day in weekdays:\n",
    "    print(f'{day} is the day {weekdays.index(day)}')\n",
    "\n",
    "\n",
    "for day in weekdays:\n",
    "    day_nr = weekdays.index(day)\n",
    "\n",
    "    if day == \"Monday\":\n",
    "        print(f\"{day} is {day_nr}st day of the week\")\n",
    "    "
   ]
  },
  {
   "cell_type": "code",
   "execution_count": 28,
   "metadata": {},
   "outputs": [
    {
     "name": "stdout",
     "output_type": "stream",
     "text": [
      "cheese\n",
      "salad\n",
      "pizza\n",
      "milk\n"
     ]
    }
   ],
   "source": [
    "products = [\"cheese\", \"salad\", \"pizza\", \"milk\"]\n",
    "\n",
    "\n",
    "while len(products) > 0:\n",
    "    print(products[0])\n",
    "    products.pop(0)\n"
   ]
  },
  {
   "cell_type": "code",
   "execution_count": 29,
   "metadata": {},
   "outputs": [
    {
     "name": "stdout",
     "output_type": "stream",
     "text": [
      "MONKEY, MONKEY, MONKEY, MONKEY, MONKEY, MONKEY, LIKES, LIKES, LIKES, LIKES, LIKES, BANANA, BANANA, BANANA, BANANA, BANANA, BANANA, "
     ]
    }
   ],
   "source": [
    "words = [\"monkey\", \"likes\", \"banana\"]\n",
    "\n",
    "for word in words:\n",
    "    for letter in word:\n",
    "        for letter in word:\n",
    "            print(letter.capitalize(), end=\"\")\n",
    "        print(\", \", end=\"\")"
   ]
  },
  {
   "cell_type": "code",
   "execution_count": 35,
   "metadata": {},
   "outputs": [
    {
     "name": "stdout",
     "output_type": "stream",
     "text": [
      "0\n",
      "['A1', 'B1', 'C1']\n",
      "1\n",
      "['A2', 'B2', 'C2']\n",
      "2\n",
      "['A3', 'B3', 'C4']\n"
     ]
    }
   ],
   "source": [
    "l1 = [[\"A1\", \"B1\", \"C1\"],[\"A2\", \"B2\", \"C2\"],[\"A3\", \"B3\", \"C4\"]]\n",
    "\n",
    "\n",
    "for i, list in enumerate(l1):\n",
    "    for item in list:\n",
    "        print(l1[i])\n"
   ]
  },
  {
   "cell_type": "code",
   "execution_count": 38,
   "metadata": {},
   "outputs": [
    {
     "name": "stdout",
     "output_type": "stream",
     "text": [
      "['c', 'o', 'o', 'l']\n"
     ]
    }
   ],
   "source": [
    "l2 = [\"cat\", \"owl\", \"opossum\", \"lemur\"]\n",
    "\n",
    "l3 = []\n",
    "\n",
    "for iem in l2:\n",
    "    l3.append(word[0])\n",
    "l3\n",
    "\n",
    "new_list = [word[0] for word in l2] # <---- list comprehension\n",
    "\n",
    "print(new_list)\n",
    "print(\"\".join(new_list))\n"
   ]
  },
  {
   "cell_type": "code",
   "execution_count": 42,
   "metadata": {},
   "outputs": [
    {
     "data": {
      "text/plain": [
       "'agiR gnidoC loohcS AIS'"
      ]
     },
     "execution_count": 42,
     "metadata": {},
     "output_type": "execute_result"
    }
   ],
   "source": [
    "t1 = \"Riga Coding School SIA\"\n",
    "\n",
    "rev = \" \".join(word[::-1]for word in t1.split(\" \"))\n",
    "\n",
    "rev"
   ]
  },
  {
   "cell_type": "code",
   "execution_count": 44,
   "metadata": {},
   "outputs": [
    {
     "data": {
      "text/plain": [
       "[0.2, 7.2, 3.4]"
      ]
     },
     "execution_count": 44,
     "metadata": {},
     "output_type": "execute_result"
    }
   ],
   "source": [
    "numbers = [0.2,1,2,7.2,4,3.4,2]\n",
    "floats = [n for n in numbers if type(n) == float]\n",
    "\n",
    "floats"
   ]
  },
  {
   "cell_type": "code",
   "execution_count": 45,
   "metadata": {},
   "outputs": [
    {
     "data": {
      "text/plain": [
       "22"
      ]
     },
     "execution_count": 45,
     "metadata": {},
     "output_type": "execute_result"
    }
   ],
   "source": [
    "list = [[11,12,13],\n",
    "        [21,22,23],\n",
    "        [31,32,33]]\n",
    "\n",
    "list[1][1]"
   ]
  },
  {
   "cell_type": "code",
   "execution_count": 46,
   "metadata": {},
   "outputs": [
    {
     "data": {
      "text/plain": [
       "[11, 12, 13, 21, 22, 23, 31, 32, 33]"
      ]
     },
     "execution_count": 46,
     "metadata": {},
     "output_type": "execute_result"
    }
   ],
   "source": [
    "list = [[11,12,13],\n",
    "        [21,22,23],\n",
    "        [31,32,33]]\n",
    "\n",
    "new_list_2 = [n for l in list for n in l]\n",
    "\n",
    "new_list_2"
   ]
  },
  {
   "cell_type": "code",
   "execution_count": 50,
   "metadata": {},
   "outputs": [],
   "source": [
    "import this"
   ]
  },
  {
   "cell_type": "code",
   "execution_count": 51,
   "metadata": {},
   "outputs": [],
   "source": [
    "import antigravity"
   ]
  },
  {
   "cell_type": "code",
   "execution_count": 52,
   "metadata": {},
   "outputs": [],
   "source": [
    "import __hello__"
   ]
  },
  {
   "cell_type": "code",
   "execution_count": 58,
   "metadata": {},
   "outputs": [
    {
     "name": "stdout",
     "output_type": "stream",
     "text": [
      "Ievadi savu vecumu izmantojot skaitli!\n"
     ]
    }
   ],
   "source": [
    "\n",
    "vecums = input(\"ievadi savu vecumu\")\n",
    "\n",
    "if vecums.isdigit():\n",
    "    if int(vecums) >= 18:\n",
    "        print(\"Vari skatīties filmu\")\n",
    "    else:\n",
    "        print(\"Filmu nevari skatities!\")\n",
    "else:\n",
    "    print(\"Ievadi savu vecumu izmantojot skaitli!\")\n"
   ]
  },
  {
   "cell_type": "code",
   "execution_count": 59,
   "metadata": {},
   "outputs": [],
   "source": [
    "temp = input(\"Ievadi veselu skaitli.\")\n",
    "\n",
    "if (\".\" in temp) or (\",\" in temp):\n",
    "    print(\"Ievadi veselu skailti\")\n",
    "else:\n",
    "    print(\"Vesels skaitlis\")"
   ]
  },
  {
   "cell_type": "code",
   "execution_count": 60,
   "metadata": {},
   "outputs": [
    {
     "name": "stdout",
     "output_type": "stream",
     "text": [
      "Parole satur vismaz vienu ciparu\n"
     ]
    }
   ],
   "source": [
    "\n",
    "parole = \"adssadas7dsdssd\"\n",
    "\n",
    "s = 0\n",
    "\n",
    "for el in parole:\n",
    "    s += el.isnumeric()\n",
    "    if el.isnumeric():\n",
    "        print(\"Parole satur vismaz vienu ciparu\")\n",
    "        break\n",
    "    \n",
    "if s > 0:\n",
    "    C_1 = True\n",
    "else:\n",
    "    C_1 = False\n",
    "\n",
    "password = input(\"Ievadi paroli\")\n",
    "\n",
    "\n",
    "special_char = [\"*\", \"+\", \"&\"]\n",
    "\n",
    "C_length = (len(password) >= 8) # Prasiba par paroles garumu : True / False\n",
    "C_num = el.isnumeric()\n",
    "C_low = el.islower()\n",
    "C_up = el.isupper()\n",
    "C_special_char = el in [\"*\", \"+\", \"&\"]\n",
    "\n",
    "\n",
    "while C_1:\n",
    "    password = input(\"Ievadi paroli\")\n",
    "    if len(password) >= 8:\n",
    "        C_1 = False\n",
    "    elif char.isen\n",
    "        \n",
    "        \n",
    "        \n",
    "        \n",
    "    for el in password:\n",
    "        if el.isnumeric(): # Jasatur ciparu\n",
    "            C_1 = False\n",
    "        else:\n",
    "            C_1 = True\n",
    "        if el.islower(): # jasatur mazo butru\n",
    "            C_1 = False\n",
    "        else:\n",
    "            C_1 = True\n",
    "        if el.isupper(): # jasatur lielo burtu\n",
    "            C_1 = False\n",
    "        else:\n",
    "            C_1 = True\n",
    "        if el in special_char: # jasatur spec char\n",
    "            C_1 = False\n",
    "        else:\n",
    "            C_1 = True\n",
    "\n"
   ]
  },
  {
   "cell_type": "code",
   "execution_count": 4,
   "metadata": {},
   "outputs": [
    {
     "name": "stdout",
     "output_type": "stream",
     "text": [
      "Jasatur ciparu.\n",
      "Jasatur mazo burtu\n",
      "Jasatur lielo burtu\n",
      "Jasatur mazo burtu\n",
      "Jasatur lielo burtu\n",
      "Jasatur kadu no ['*', '+', '&']\n",
      "Paroles garumam jabut vismaz 8 simboliem\n",
      "Paroles garumam jabut vismaz 8 simboliem\n",
      "Paroles garumam jabut vismaz 8 simboliem\n",
      "Paroles garumam jabut vismaz 8 simboliem\n",
      "Paroles garumam jabut vismaz 8 simboliem\n",
      "Paroles garumam jabut vismaz 8 simboliem\n",
      "Paroles garumam jabut vismaz 8 simboliem\n",
      "Paroles garumam jabut vismaz 8 simboliem\n",
      "Paroles garumam jabut vismaz 8 simboliem\n",
      "Paroles garumam jabut vismaz 8 simboliem\n",
      "Paroles garumam jabut vismaz 8 simboliem\n",
      "Paroles garumam jabut vismaz 8 simboliem\n",
      "Paroles garumam jabut vismaz 8 simboliem\n",
      "Paroles garumam jabut vismaz 8 simboliem\n",
      "Paroles garumam jabut vismaz 8 simboliem\n",
      "Paroles garumam jabut vismaz 8 simboliem\n",
      "Paroles garumam jabut vismaz 8 simboliem\n",
      "Paroles garumam jabut vismaz 8 simboliem\n",
      "Paroles garumam jabut vismaz 8 simboliem\n"
     ]
    },
    {
     "ename": "KeyboardInterrupt",
     "evalue": "Interrupted by user",
     "output_type": "error",
     "traceback": [
      "\u001b[1;31m---------------------------------------------------------------------------\u001b[0m",
      "\u001b[1;31mKeyboardInterrupt\u001b[0m                         Traceback (most recent call last)",
      "Cell \u001b[1;32mIn[4], line 6\u001b[0m\n\u001b[0;32m      3\u001b[0m password \u001b[38;5;241m=\u001b[39m \u001b[38;5;28minput\u001b[39m(\u001b[38;5;124m\"\u001b[39m\u001b[38;5;124mIevadi paroli\u001b[39m\u001b[38;5;124m\"\u001b[39m)\n\u001b[0;32m      5\u001b[0m \u001b[38;5;28;01mwhile\u001b[39;00m C_1:\n\u001b[1;32m----> 6\u001b[0m     password \u001b[38;5;241m=\u001b[39m \u001b[38;5;28minput\u001b[39m(\u001b[38;5;124m\"\u001b[39m\u001b[38;5;124mIevadi paroli\u001b[39m\u001b[38;5;124m\"\u001b[39m)\n\u001b[0;32m      7\u001b[0m     \u001b[38;5;28;01mif\u001b[39;00m \u001b[38;5;28mlen\u001b[39m(password) \u001b[38;5;241m>\u001b[39m\u001b[38;5;241m=\u001b[39m \u001b[38;5;241m8\u001b[39m:\n\u001b[0;32m      8\u001b[0m         C_1 \u001b[38;5;241m=\u001b[39m \u001b[38;5;28;01mFalse\u001b[39;00m\n",
      "File \u001b[1;32mc:\\Users\\janis\\anaconda3\\envs\\RCS\\Lib\\site-packages\\ipykernel\\kernelbase.py:1262\u001b[0m, in \u001b[0;36mKernel.raw_input\u001b[1;34m(self, prompt)\u001b[0m\n\u001b[0;32m   1260\u001b[0m     msg \u001b[38;5;241m=\u001b[39m \u001b[38;5;124m\"\u001b[39m\u001b[38;5;124mraw_input was called, but this frontend does not support input requests.\u001b[39m\u001b[38;5;124m\"\u001b[39m\n\u001b[0;32m   1261\u001b[0m     \u001b[38;5;28;01mraise\u001b[39;00m StdinNotImplementedError(msg)\n\u001b[1;32m-> 1262\u001b[0m \u001b[38;5;28;01mreturn\u001b[39;00m \u001b[38;5;28mself\u001b[39m\u001b[38;5;241m.\u001b[39m_input_request(\n\u001b[0;32m   1263\u001b[0m     \u001b[38;5;28mstr\u001b[39m(prompt),\n\u001b[0;32m   1264\u001b[0m     \u001b[38;5;28mself\u001b[39m\u001b[38;5;241m.\u001b[39m_parent_ident[\u001b[38;5;124m\"\u001b[39m\u001b[38;5;124mshell\u001b[39m\u001b[38;5;124m\"\u001b[39m],\n\u001b[0;32m   1265\u001b[0m     \u001b[38;5;28mself\u001b[39m\u001b[38;5;241m.\u001b[39mget_parent(\u001b[38;5;124m\"\u001b[39m\u001b[38;5;124mshell\u001b[39m\u001b[38;5;124m\"\u001b[39m),\n\u001b[0;32m   1266\u001b[0m     password\u001b[38;5;241m=\u001b[39m\u001b[38;5;28;01mFalse\u001b[39;00m,\n\u001b[0;32m   1267\u001b[0m )\n",
      "File \u001b[1;32mc:\\Users\\janis\\anaconda3\\envs\\RCS\\Lib\\site-packages\\ipykernel\\kernelbase.py:1305\u001b[0m, in \u001b[0;36mKernel._input_request\u001b[1;34m(self, prompt, ident, parent, password)\u001b[0m\n\u001b[0;32m   1302\u001b[0m \u001b[38;5;28;01mexcept\u001b[39;00m \u001b[38;5;167;01mKeyboardInterrupt\u001b[39;00m:\n\u001b[0;32m   1303\u001b[0m     \u001b[38;5;66;03m# re-raise KeyboardInterrupt, to truncate traceback\u001b[39;00m\n\u001b[0;32m   1304\u001b[0m     msg \u001b[38;5;241m=\u001b[39m \u001b[38;5;124m\"\u001b[39m\u001b[38;5;124mInterrupted by user\u001b[39m\u001b[38;5;124m\"\u001b[39m\n\u001b[1;32m-> 1305\u001b[0m     \u001b[38;5;28;01mraise\u001b[39;00m \u001b[38;5;167;01mKeyboardInterrupt\u001b[39;00m(msg) \u001b[38;5;28;01mfrom\u001b[39;00m \u001b[38;5;28;01mNone\u001b[39;00m\n\u001b[0;32m   1306\u001b[0m \u001b[38;5;28;01mexcept\u001b[39;00m \u001b[38;5;167;01mException\u001b[39;00m:\n\u001b[0;32m   1307\u001b[0m     \u001b[38;5;28mself\u001b[39m\u001b[38;5;241m.\u001b[39mlog\u001b[38;5;241m.\u001b[39mwarning(\u001b[38;5;124m\"\u001b[39m\u001b[38;5;124mInvalid Message:\u001b[39m\u001b[38;5;124m\"\u001b[39m, exc_info\u001b[38;5;241m=\u001b[39m\u001b[38;5;28;01mTrue\u001b[39;00m)\n",
      "\u001b[1;31mKeyboardInterrupt\u001b[0m: Interrupted by user"
     ]
    }
   ],
   "source": [
    "C_1 = True\n",
    "simboli = [\"*\", \"+\", \"&\"]\n",
    "\n",
    "while C_1:\n",
    "    password = input(\"Ievadi paroli\")\n",
    "    if len(password) >= 8:\n",
    "        C_1 = False\n",
    "    else:\n",
    "        C_1 = True\n",
    "        print(\"Paroles garumam jabut vismaz 8 simboliem\")\n",
    "    for el in password:\n",
    "        if el.isnumeric():\n",
    "            C_1 = False\n",
    "        else:\n",
    "            C_1 = True\n",
    "            print(\"Jasatur ciparu.\")\n",
    "        if el.islower():\n",
    "            C_1 = False\n",
    "        else:\n",
    "            C_1 = True\n",
    "            print(\"Jasatur mazo burtu\")\n",
    "        if el.isupper():\n",
    "            C_1 = False\n",
    "        else:\n",
    "            C_1 = True\n",
    "            print(\"Jasatur lielo burtu\")\n",
    "        if el in simboli:\n",
    "            C_1 = False\n",
    "        else:\n",
    "            C_1 = True\n",
    "            print(f\"Jasatur kadu no {simboli}\")\n",
    "            break"
   ]
  }
 ],
 "metadata": {
  "kernelspec": {
   "display_name": "RCS",
   "language": "python",
   "name": "python3"
  },
  "language_info": {
   "codemirror_mode": {
    "name": "ipython",
    "version": 3
   },
   "file_extension": ".py",
   "mimetype": "text/x-python",
   "name": "python",
   "nbconvert_exporter": "python",
   "pygments_lexer": "ipython3",
   "version": "3.11.7"
  }
 },
 "nbformat": 4,
 "nbformat_minor": 2
}
