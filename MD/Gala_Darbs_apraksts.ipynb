{
 "cells": [
  {
   "cell_type": "markdown",
   "id": "90fc0693-f788-45a7-9e8d-d503e346093c",
   "metadata": {},
   "source": [
    "Par kursa noslēguma darbu.\r\n",
    "    \n",
    " Projekta tēma un izmantojamās tehnoloģijas: Savā izvēlē esat pilnīgi brīvi. Ieteicams realizēt ar savu esošo vai vēlamo darbības virzienu saistītu projektu. To var veikt divejādi. Proti, vai nu nodemonstrējot padziļinātas zināšanas un iemaņas šaurākā apskatīto tēmu lokā (var būt pat 1 tēma), vai arī vispārīgu izpratni plašākā tēmu spektrā. Dažas idejas/piemēri projektam: Datu automatizētas ielasīšanas, tīrīšanas un apstrādes procesa izstrāde, par pamatu ņemot kādu datu kopu no piedāvātajiem resursiem; Datu kopas izveidošana, izmantojot web harvesting (un analīze vai/un vizualizācija); Kādas publiski pieejamas aktuālas datu kopas analīze un datu vizualizācija; SQL datubāzes izveide, datu saglabāšana un izgūšana no tās; Biznesa inteliģences risinājuma izstrāde. Izmantojamie dati: Ar savu esošo darbību saistīti dati (ja vien tie nav konfidenciāli); Internetā izvietotā informācija; Kāda no publiski piejamām datu kopām (skat. sadaļā noderīgi). Datu apjomam ir sekundāra nozīme, taču tam jābūt atbilstošam. Pats minimums ir 1000 ieraksti/datu punkti. Mācību procesā izmantotās datu kopas projektā izmantot nav atļats\n",
    " u\n",
    "\n",
    " ### Darba soļi\n",
    "\n",
    "     1. izgūt datus(iegūt datus)\n",
    "     2. atstrādāt datus\n",
    "     3. secinājumi/izlasīt jēgpilnus datut\n",
    " # . Vērtēšanas kritēriji\n",
    "    - : Tēmas aktualitāet\n",
    "    - ; Datu kopas izmēra atbilstība projektma\n",
    "    - ; Nodemonstrētās zināšanas un iemaņas (dziļums vai plašum)s\n",
    "    - ; Izvēlēto rīku un metožu atbilstība projekta mērķmi\n",
    "    - ; Projekta prezentāciaj\n",
    " a."
   ]
  }
 ],
 "metadata": {
  "kernelspec": {
   "display_name": "Python 3 (ipykernel)",
   "language": "python",
   "name": "python3"
  },
  "language_info": {
   "codemirror_mode": {
    "name": "ipython",
    "version": 3
   },
   "file_extension": ".py",
   "mimetype": "text/x-python",
   "name": "python",
   "nbconvert_exporter": "python",
   "pygments_lexer": "ipython3",
   "version": "3.11.8"
  }
 },
 "nbformat": 4,
 "nbformat_minor": 5
}
