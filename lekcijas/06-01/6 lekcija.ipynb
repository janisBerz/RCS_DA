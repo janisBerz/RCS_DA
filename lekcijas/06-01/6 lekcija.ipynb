{
 "cells": [
  {
   "cell_type": "code",
   "execution_count": 1,
   "metadata": {},
   "outputs": [
    {
     "name": "stdout",
     "output_type": "stream",
     "text": [
      "4\n",
      "55\n",
      "u\n",
      "3\n",
      "True\n",
      "3\n",
      "ss\n"
     ]
    }
   ],
   "source": [
    "l5 = [4,55,\"u\",3,True,3,\"ss\"]\n",
    "\n",
    "for el in l5:\n",
    "    print(el, sep=\"\\n\", end=\"\\n\")"
   ]
  },
  {
   "cell_type": "code",
   "execution_count": 1,
   "metadata": {},
   "outputs": [
    {
     "data": {
      "text/plain": [
       "9317"
      ]
     },
     "execution_count": 1,
     "metadata": {},
     "output_type": "execute_result"
    }
   ],
   "source": [
    "# def sum_of_squares(*args_description):\n",
    "def sum_of_squares(*args):\n",
    "    result = 0\n",
    "    result = 0\n",
    "    for n in args:\n",
    "        result = result + n**2\n",
    "    return result\n",
    "\n",
    "sum_of_squares(44,55,66)"
   ]
  },
  {
   "cell_type": "code",
   "execution_count": 26,
   "metadata": {},
   "outputs": [
    {
     "data": {
      "text/plain": [
       "True"
      ]
     },
     "execution_count": 26,
     "metadata": {},
     "output_type": "execute_result"
    }
   ],
   "source": [
    "# Alternative execution without *args\n",
    "\n",
    "my_num = [1,2,3]\n",
    "\n",
    "def alt_sum_of_square(num_list):\n",
    "    result = 0\n",
    "    for el in num_list:\n",
    "        result = result +el**2\n",
    "    return result\n",
    "\n",
    "alt_sum_of_square(my_num)\n",
    "\n",
    "type(my_num) == list"
   ]
  },
  {
   "cell_type": "code",
   "execution_count": 16,
   "metadata": {},
   "outputs": [
    {
     "name": "stdout",
     "output_type": "stream",
     "text": [
      "I like bananas,mango very very much\n",
      "I don't like bananas,mango very very very very very much\n"
     ]
    }
   ],
   "source": [
    "'very' * 3\n",
    "\n",
    "'very' + 'very' + 'very' + 'very'\n",
    "\n",
    "'a' + '7'\n",
    "\n",
    "['a', '7'] * 3\n",
    "\n",
    "\n",
    "def print_this(n, *args, sentiment = \"positive\"):\n",
    "    if sentiment == \"positive\":\n",
    "        my_str = \"I like \" + \",\".join(args) + \" very\"*n + \" much\"\n",
    "    else:\n",
    "        my_str = \"I don't like \" + \",\".join(args) + \" very\"*n + \" much\"\n",
    "    print(my_str)\n",
    "\n",
    "\n",
    "print_this(2, \"bananas\", \"mango\")\n",
    "\n",
    "print_this(5, \"bananas\", \"mango\", sentiment=\"negative\")"
   ]
  },
  {
   "cell_type": "code",
   "execution_count": 17,
   "metadata": {},
   "outputs": [
    {
     "name": "stdout",
     "output_type": "stream",
     "text": [
      "1st 1\n"
     ]
    }
   ],
   "source": [
    "# Lokalais mainigais - mainigai kas tiek definets funkcija un darbojas tikai funkcija\n",
    "\n",
    "m = ()\n",
    "def func1():\n",
    "    m = 1\n",
    "    print(\"1st\", m)\n",
    "\n",
    "func1()\n",
    "print(\"2nd\", m)"
   ]
  },
  {
   "cell_type": "code",
   "execution_count": 18,
   "metadata": {},
   "outputs": [
    {
     "ename": "UnboundLocalError",
     "evalue": "cannot access local variable 'm2' where it is not associated with a value",
     "output_type": "error",
     "traceback": [
      "\u001b[1;31m---------------------------------------------------------------------------\u001b[0m",
      "\u001b[1;31mUnboundLocalError\u001b[0m                         Traceback (most recent call last)",
      "Cell \u001b[1;32mIn[18], line 8\u001b[0m\n\u001b[0;32m      5\u001b[0m     m2 \u001b[38;5;241m=\u001b[39m m2 \u001b[38;5;241m+\u001b[39m\u001b[38;5;241m3\u001b[39m \u001b[38;5;66;03m# bus konflikts jo lokala vertiba konflikte ar globalo\u001b[39;00m\n\u001b[0;32m      6\u001b[0m     \u001b[38;5;28mprint\u001b[39m(m2)\n\u001b[1;32m----> 8\u001b[0m func2()\n",
      "Cell \u001b[1;32mIn[18], line 5\u001b[0m, in \u001b[0;36mfunc2\u001b[1;34m()\u001b[0m\n\u001b[0;32m      4\u001b[0m \u001b[38;5;28;01mdef\u001b[39;00m \u001b[38;5;21mfunc2\u001b[39m():\n\u001b[1;32m----> 5\u001b[0m     m2 \u001b[38;5;241m=\u001b[39m m2 \u001b[38;5;241m+\u001b[39m\u001b[38;5;241m3\u001b[39m \u001b[38;5;66;03m# bus konflikts jo lokala vertiba konflikte ar globalo\u001b[39;00m\n\u001b[0;32m      6\u001b[0m     \u001b[38;5;28mprint\u001b[39m(m2)\n",
      "\u001b[1;31mUnboundLocalError\u001b[0m: cannot access local variable 'm2' where it is not associated with a value"
     ]
    }
   ],
   "source": [
    "m2 = 3\n",
    "def func2():\n",
    "    m2 = m2 +3 # bus konflikts jo lokala vertiba konflikte ar globalo\n",
    "    print(m2)\n",
    "    \n",
    "func2()"
   ]
  },
  {
   "cell_type": "code",
   "execution_count": 21,
   "metadata": {},
   "outputs": [
    {
     "name": "stdout",
     "output_type": "stream",
     "text": [
      "Funkcijas mainigais m: 1\n"
     ]
    }
   ],
   "source": [
    "m3 = 0\n",
    "\n",
    "def func3():\n",
    "    m3 = 1\n",
    "    print(f\"Funkcijas mainigais m: {m3}\")\n",
    "\n",
    "func3()"
   ]
  },
  {
   "cell_type": "code",
   "execution_count": 38,
   "metadata": {},
   "outputs": [
    {
     "name": "stdout",
     "output_type": "stream",
     "text": [
      "0\n",
      "1\n"
     ]
    }
   ],
   "source": [
    "global_var = 0\n",
    "\n",
    "def func4():\n",
    "    global global_var\n",
    "    global_var = global_var + 1\n",
    "\n",
    "print(global_var)\n",
    "\n",
    "func4()\n",
    "print(global_var)"
   ]
  },
  {
   "cell_type": "code",
   "execution_count": 42,
   "metadata": {},
   "outputs": [
    {
     "name": "stdout",
     "output_type": "stream",
     "text": [
      "new list  [1]\n",
      "new list  [1, 25]\n",
      "new list  [1, 25, 16]\n",
      "new list  [1, 25, 16, 25]\n",
      "new list  [1, 25, 16, 25, 49]\n",
      "new list  [1, 25, 16, 25, 49, 64]\n",
      "new list  [1, 25, 16, 25, 49, 64, 25]\n"
     ]
    },
    {
     "data": {
      "text/plain": [
       "[1, 25, 16, 25, 49, 64, 25]"
      ]
     },
     "execution_count": 42,
     "metadata": {},
     "output_type": "execute_result"
    }
   ],
   "source": [
    "new_list = list()\n",
    "\n",
    "old_list = [1, 5, 4, 5, 7, 8, 5]\n",
    "\n",
    "for el in old_list:\n",
    "    new = el**2\n",
    "    new_list = new_list + [new]\n",
    "    print(\"new list \", new_list)\n",
    "    \n",
    "new_list"
   ]
  },
  {
   "cell_type": "markdown",
   "metadata": {},
   "source": [
    "# Lambda funkcijas\n",
    "    Lambda funkcija - beznosaukuma jeb anonima funkcija ar 1 vai vairakiem argumentiem un vienu izteiksmi. Ta nevar saturet koda bloku.\n",
    "\n",
    "    Anonima lambda funkcija neaiznem vietu atmina!\n",
    "\n",
    "    Sintakse - lambda par1, par2\n",
    "\n"
   ]
  },
  {
   "cell_type": "markdown",
   "metadata": {},
   "source": [
    "# map, reduce, filter, zip\n",
    "\n",
    "  map funkciju pielieto lai noteiktu funkciju katram virknes elementam. Sintakse map(funkcija, virkne(es))"
   ]
  },
  {
   "cell_type": "code",
   "execution_count": 43,
   "metadata": {},
   "outputs": [
    {
     "name": "stdout",
     "output_type": "stream",
     "text": [
      "map(func, *iterables) --> map object\n",
      "\n",
      "Make an iterator that computes the function using arguments from\n",
      "each of the iterables.  Stops when the shortest iterable is exhausted.\n"
     ]
    }
   ],
   "source": [
    "print(map.__doc__)"
   ]
  },
  {
   "cell_type": "code",
   "execution_count": 17,
   "metadata": {},
   "outputs": [
    {
     "name": "stdout",
     "output_type": "stream",
     "text": [
      "[1]\n",
      "[1, 4]\n",
      "[1, 4, 9]\n",
      "[1, 4, 9, 16]\n",
      "[1, 4, 9, 16, 25]\n",
      "[1, 4, 9, 16, 25, 36]\n",
      "[1, 4, 9, 16, 25, 36, 36]\n",
      "--------\n",
      "[1, 4, 9, 16, 25, 36, 36]\n"
     ]
    }
   ],
   "source": [
    "# Klasisko pierakstu \n",
    "\n",
    "my_list = [1, 2, 3, 4, 5, 6, 6]\n",
    "new_list = []\n",
    "\n",
    "for x in my_list:\n",
    "    new_list.append(x**2)\n",
    "    print(new_list)\n",
    "    \n",
    "print(\"--------\")\n",
    "print(new_list)"
   ]
  },
  {
   "cell_type": "code",
   "execution_count": 54,
   "metadata": {},
   "outputs": [
    {
     "data": {
      "text/plain": [
       "[1, 2, 3, 4, 5, 6, 6]"
      ]
     },
     "execution_count": 54,
     "metadata": {},
     "output_type": "execute_result"
    }
   ],
   "source": [
    "# Izmantosim map funkciju\n",
    "\n",
    "def squared(x):\n",
    "    return x ** 2\n",
    "\n",
    "map(squared, my_list)\n",
    "\n",
    "my_list"
   ]
  },
  {
   "cell_type": "code",
   "execution_count": 55,
   "metadata": {},
   "outputs": [
    {
     "data": {
      "text/plain": [
       "[1, 4, 9, 16]"
      ]
     },
     "execution_count": 55,
     "metadata": {},
     "output_type": "execute_result"
    }
   ],
   "source": [
    "list(map(lambda x: x**2, range(1,5)))"
   ]
  },
  {
   "cell_type": "code",
   "execution_count": 56,
   "metadata": {},
   "outputs": [
    {
     "data": {
      "text/plain": [
       "[1, 2, 4, 8, 16, 32, 64, 128, 256, 512]"
      ]
     },
     "execution_count": 56,
     "metadata": {},
     "output_type": "execute_result"
    }
   ],
   "source": [
    "list(map(pow, [2,2,2,2,2,2,2,2,2,2], [0,1,2,3,4,5,6,7,8,9]))"
   ]
  },
  {
   "cell_type": "code",
   "execution_count": 58,
   "metadata": {},
   "outputs": [
    {
     "data": {
      "text/plain": [
       "[1, 2, 4, 8, 16, 32, 64, 128, 256, 512]"
      ]
     },
     "execution_count": 58,
     "metadata": {},
     "output_type": "execute_result"
    }
   ],
   "source": [
    "# Alternativs pieraksts\n",
    "\n",
    "list(map(pow, [2]*len(range(10)), range(10)))"
   ]
  },
  {
   "cell_type": "code",
   "execution_count": 9,
   "metadata": {},
   "outputs": [
    {
     "data": {
      "text/plain": [
       "[1, 4, 16, 64, 256, 1024, 4096, 16384, 65536, 262144, 1048576, 4194304]"
      ]
     },
     "execution_count": 9,
     "metadata": {},
     "output_type": "execute_result"
    }
   ],
   "source": [
    "def func6(x, y):\n",
    "    return list(map(pow, [x]* len(range(y + 1)), range(y + 1)))\n",
    "\n",
    "func6(4,11)"
   ]
  },
  {
   "cell_type": "code",
   "execution_count": 10,
   "metadata": {},
   "outputs": [
    {
     "ename": "NameError",
     "evalue": "name 'my_strings' is not defined",
     "output_type": "error",
     "traceback": [
      "\u001b[1;31m---------------------------------------------------------------------------\u001b[0m",
      "\u001b[1;31mNameError\u001b[0m                                 Traceback (most recent call last)",
      "Cell \u001b[1;32mIn[10], line 1\u001b[0m\n\u001b[1;32m----> 1\u001b[0m my_strings \u001b[38;5;241m-\u001b[39m [\u001b[38;5;124m\"\u001b[39m\u001b[38;5;124mdita\u001b[39m\u001b[38;5;124m\"\u001b[39m, \u001b[38;5;124m\"\u001b[39m\u001b[38;5;124mjurita\u001b[39m\u001b[38;5;124m\"\u001b[39m, \u001b[38;5;124m\"\u001b[39m\u001b[38;5;124meva\u001b[39m\u001b[38;5;124m\"\u001b[39m, \u001b[38;5;124m\"\u001b[39m\u001b[38;5;124mvalentina\u001b[39m\u001b[38;5;124m\"\u001b[39m]\n\u001b[0;32m      3\u001b[0m \u001b[38;5;28mlist\u001b[39m(\u001b[38;5;28mmap\u001b[39m(\u001b[38;5;28mstr\u001b[39m\u001b[38;5;241m.\u001b[39mcapitalize, my_list))\n",
      "\u001b[1;31mNameError\u001b[0m: name 'my_strings' is not defined"
     ]
    }
   ],
   "source": [
    "my_strings = [\"dita\", \"jurita\", \"eva\", \"valentina\"]\n",
    "\n",
    "list(map(str.capitalize, my_strings))"
   ]
  },
  {
   "cell_type": "code",
   "execution_count": 15,
   "metadata": {},
   "outputs": [
    {
     "data": {
      "text/plain": [
       "144"
      ]
     },
     "execution_count": 15,
     "metadata": {},
     "output_type": "execute_result"
    }
   ],
   "source": [
    "def squared(x):\n",
    "    return x ** 2\n",
    "\n",
    "squared(12)"
   ]
  },
  {
   "cell_type": "code",
   "execution_count": 18,
   "metadata": {},
   "outputs": [
    {
     "data": {
      "text/plain": [
       "[4, 9, 16, 25]"
      ]
     },
     "execution_count": 18,
     "metadata": {},
     "output_type": "execute_result"
    }
   ],
   "source": [
    "list(map(squared, my_list[1:4+1]))"
   ]
  },
  {
   "cell_type": "code",
   "execution_count": 19,
   "metadata": {},
   "outputs": [
    {
     "data": {
      "text/plain": [
       "[1, 4, 9, 16, 25]"
      ]
     },
     "execution_count": 19,
     "metadata": {},
     "output_type": "execute_result"
    }
   ],
   "source": [
    "L = [1, 2, 3, 4, 5]\n",
    "\n",
    "new_list = [el*el for el in L]\n",
    "new_list"
   ]
  },
  {
   "cell_type": "code",
   "execution_count": 21,
   "metadata": {},
   "outputs": [
    {
     "name": "stdout",
     "output_type": "stream",
     "text": [
      "[1, 4, 9, 16, 25]\n"
     ]
    }
   ],
   "source": [
    "L = [1, 2, 3, 4, 5]\n",
    "new_list = []\n",
    "\n",
    "for el in L:\n",
    "    new_list.append(el**2)\n",
    "\n",
    "print(new_list)"
   ]
  },
  {
   "cell_type": "markdown",
   "metadata": {},
   "source": [
    "## Enumarate"
   ]
  },
  {
   "cell_type": "code",
   "execution_count": 26,
   "metadata": {},
   "outputs": [
    {
     "data": {
      "text/plain": [
       "0"
      ]
     },
     "execution_count": 26,
     "metadata": {},
     "output_type": "execute_result"
    }
   ],
   "source": [
    "produkti = [\"piens\", \"sviests\", \"olas\", \"lasis\"]\n",
    "\n",
    "# produkti[1]\n",
    "# produkti.index(\"piens\")\n",
    "\n",
    "list(enumerate(produkti))"
   ]
  },
  {
   "cell_type": "markdown",
   "metadata": {},
   "source": [
    "## zip"
   ]
  },
  {
   "cell_type": "code",
   "execution_count": 28,
   "metadata": {},
   "outputs": [
    {
     "data": {
      "text/plain": [
       "[(0, 'piens'), (1, 'sviests'), (2, 'olas'), (3, 'lasis')]"
      ]
     },
     "execution_count": 28,
     "metadata": {},
     "output_type": "execute_result"
    }
   ],
   "source": [
    "produkti = [\"piens\", \"sviests\", \"olas\", \"lasis\"]\n",
    "sk = [0, 1, 2, 3]\n",
    "\n",
    "list(zip(sk, produkti))"
   ]
  },
  {
   "cell_type": "code",
   "execution_count": 30,
   "metadata": {},
   "outputs": [
    {
     "data": {
      "text/plain": [
       "[(0, (0, 'piens')), (1, (1, 'sviests')), (2, (2, 'olas')), (3, (3, 'lasis'))]"
      ]
     },
     "execution_count": 30,
     "metadata": {},
     "output_type": "execute_result"
    }
   ],
   "source": [
    "produkti = [\"piens\", \"sviests\", \"olas\", \"lasis\"]\n",
    "sk = [0, 1, 2, 3]\n",
    "\n",
    "list(enumerate(zip(sk,produkti)))"
   ]
  },
  {
   "cell_type": "code",
   "execution_count": 34,
   "metadata": {},
   "outputs": [
    {
     "data": {
      "text/plain": [
       "[(1, 4, 7), (2, 5, 8), (3, 6, 9)]"
      ]
     },
     "execution_count": 34,
     "metadata": {},
     "output_type": "execute_result"
    }
   ],
   "source": [
    "list1 = [1, 2, 3]\n",
    "list2 = [4, 5, 6]\n",
    "list3 = [7, 8, 9]\n",
    "\n",
    "my_zip = list(zip(list1, list2, list3))\n",
    "my_zip"
   ]
  },
  {
   "cell_type": "code",
   "execution_count": 35,
   "metadata": {},
   "outputs": [
    {
     "name": "stdout",
     "output_type": "stream",
     "text": [
      "1 4 7 To summa =  1 4 7\n",
      "2 5 8 To summa =  2 5 8\n",
      "3 6 9 To summa =  3 6 9\n"
     ]
    }
   ],
   "source": [
    "for i, kg, kalis in my_zip:\n",
    "    print(i, kg, kalis, \"To summa = \", i, kg, kalis)"
   ]
  },
  {
   "cell_type": "code",
   "execution_count": 36,
   "metadata": {},
   "outputs": [
    {
     "name": "stdout",
     "output_type": "stream",
     "text": [
      "1 and 4 and 7\n",
      "1 and 4 and 8\n",
      "1 and 4 and 9\n",
      "1 and 5 and 7\n",
      "1 and 5 and 8\n",
      "1 and 5 and 9\n",
      "1 and 6 and 7\n",
      "1 and 6 and 8\n",
      "1 and 6 and 9\n",
      "2 and 4 and 7\n",
      "2 and 4 and 8\n",
      "2 and 4 and 9\n",
      "2 and 5 and 7\n",
      "2 and 5 and 8\n",
      "2 and 5 and 9\n",
      "2 and 6 and 7\n",
      "2 and 6 and 8\n",
      "2 and 6 and 9\n",
      "3 and 4 and 7\n",
      "3 and 4 and 8\n",
      "3 and 4 and 9\n",
      "3 and 5 and 7\n",
      "3 and 5 and 8\n",
      "3 and 5 and 9\n",
      "3 and 6 and 7\n",
      "3 and 6 and 8\n",
      "3 and 6 and 9\n"
     ]
    }
   ],
   "source": [
    "list1 = [1, 2, 3]\n",
    "list2 = [4, 5, 6]\n",
    "list3 = [7, 8, 9]\n",
    "\n",
    "for i in list1:\n",
    "    for j in list2:\n",
    "        for k in list3:\n",
    "            print(i, \"and\", j , \"and\", k )"
   ]
  },
  {
   "cell_type": "code",
   "execution_count": 37,
   "metadata": {},
   "outputs": [
    {
     "data": {
      "text/plain": [
       "[('a', 1), ('b', 2), ('c', 3)]"
      ]
     },
     "execution_count": 37,
     "metadata": {},
     "output_type": "execute_result"
    }
   ],
   "source": [
    "sar1 = [1,2,3,4,5]\n",
    "sar2 = [\"a\", \"b\", \"c\"]\n",
    "\n",
    "list(zip(sar2,sar1))"
   ]
  },
  {
   "cell_type": "code",
   "execution_count": 42,
   "metadata": {},
   "outputs": [
    {
     "data": {
      "text/plain": [
       "dict"
      ]
     },
     "execution_count": 42,
     "metadata": {},
     "output_type": "execute_result"
    }
   ],
   "source": [
    "sar1 = [1,2,3,4,5]\n",
    "sar2 = [\"a\", \"b\", \"c\"]\n",
    "type({k: v for k,v in zip(sar2, sar1)})"
   ]
  },
  {
   "cell_type": "code",
   "execution_count": 46,
   "metadata": {},
   "outputs": [
    {
     "data": {
      "text/plain": [
       "{'a': 1, 'b': 2, 'c': 3}"
      ]
     },
     "execution_count": 46,
     "metadata": {},
     "output_type": "execute_result"
    }
   ],
   "source": [
    "# vai vel vienkarsak\n",
    "\n",
    "dict(zip(sar2, sar1))"
   ]
  },
  {
   "cell_type": "markdown",
   "metadata": {},
   "source": [
    "# Python moduli, bibliotekam."
   ]
  },
  {
   "cell_type": "code",
   "execution_count": 51,
   "metadata": {},
   "outputs": [],
   "source": [
    "from random import choice as ch\n",
    "import os\n",
    "import numpy as np\n",
    "import pandas as pd\n",
    "import datetime\n",
    "# import seaborn as sn\n",
    "# import mat"
   ]
  },
  {
   "cell_type": "code",
   "execution_count": 68,
   "metadata": {},
   "outputs": [
    {
     "name": "stdout",
     "output_type": "stream",
     "text": [
      "jāatmin vārds: hipototams\n"
     ]
    }
   ],
   "source": [
    "word_list = [\"kosmonauts\", \"sintezators\", \"hipototams\", \"aprikoze\", \"abols\"]\n",
    "\n",
    "word = ch(word_list)\n",
    "print(f\"jāatmin vārds: {word}\")"
   ]
  },
  {
   "cell_type": "markdown",
   "metadata": {},
   "source": [
    "## Class - instrukcija ka izskatisies objekts."
   ]
  },
  {
   "cell_type": "code",
   "execution_count": 80,
   "metadata": {},
   "outputs": [
    {
     "data": {
      "text/plain": [
       "9"
      ]
     },
     "execution_count": 80,
     "metadata": {},
     "output_type": "execute_result"
    }
   ],
   "source": [
    "class MyClass:\n",
    "    a = 9\n",
    "\n",
    "c1 = MyClass() # taisam objektu no instrukcijas MyClass, konstruktors uztaisa objektu c1\n",
    "c1.a"
   ]
  },
  {
   "cell_type": "code",
   "execution_count": 82,
   "metadata": {},
   "outputs": [
    {
     "name": "stdout",
     "output_type": "stream",
     "text": [
      "Janis\n"
     ]
    }
   ],
   "source": [
    "class Persona: # class instrukcija objektam\n",
    "    def __init__(self, name, age):\n",
    "        self.name = name\n",
    "        self.age = age\n",
    " \n",
    "#           konstruktors\n",
    "#           /\n",
    "#          /\n",
    "#         /\n",
    "#        /\n",
    "#       /\n",
    "#      \\/\n",
    "p1 = Persona(\"Janis\", 40)\n",
    "print(p1.name)\n",
    "print(p1.age)"
   ]
  }
 ],
 "metadata": {
  "kernelspec": {
   "display_name": "RCS",
   "language": "python",
   "name": "python3"
  },
  "language_info": {
   "codemirror_mode": {
    "name": "ipython",
    "version": 3
   },
   "file_extension": ".py",
   "mimetype": "text/x-python",
   "name": "python",
   "nbconvert_exporter": "python",
   "pygments_lexer": "ipython3",
   "version": "3.11.7"
  }
 },
 "nbformat": 4,
 "nbformat_minor": 2
}
