{
 "cells": [
  {
   "cell_type": "code",
   "execution_count": 1,
   "id": "e9d562e4-e0ff-4e81-a021-99e3294a761f",
   "metadata": {},
   "outputs": [],
   "source": [
    "# Pabeigsim ar if else un uzdevumu par skaitļa paritāti"
   ]
  },
  {
   "cell_type": "code",
   "execution_count": 3,
   "id": "b9b5a2cf-7dfc-4bfa-84c2-da48833a1f9f",
   "metadata": {},
   "outputs": [
    {
     "name": "stdout",
     "output_type": "stream",
     "text": [
      "4 ir para\n"
     ]
    }
   ],
   "source": [
    "x = 8\n",
    "\n",
    "x = 4\n",
    "if x % 2:\n",
    "    print(f'{x} ir nepara')\n",
    "else:\n",
    "    print(f'{x} ir para')"
   ]
  },
  {
   "cell_type": "code",
   "execution_count": 4,
   "id": "490b66cc-f02f-426c-b6e0-a70e144d1d48",
   "metadata": {},
   "outputs": [
    {
     "name": "stdout",
     "output_type": "stream",
     "text": [
      "4 ir para\n"
     ]
    }
   ],
   "source": [
    "if x % 2 == 0:\n",
    "    print(f'{x} ir para')\n",
    "else:\n",
    "    print(f'{x} ir nepara')"
   ]
  },
  {
   "cell_type": "markdown",
   "id": "ee8b2582-506f-4f5e-8ad4-5509146dd4af",
   "metadata": {},
   "source": [
    "### Iterable objects\n",
    "range()"
   ]
  },
  {
   "cell_type": "code",
   "execution_count": 5,
   "id": "a5e3900e-9554-4dc8-8df6-21234b5fb998",
   "metadata": {},
   "outputs": [
    {
     "data": {
      "text/plain": [
       "range(0, 2)"
      ]
     },
     "execution_count": 5,
     "metadata": {},
     "output_type": "execute_result"
    }
   ],
   "source": [
    "range(2)"
   ]
  },
  {
   "cell_type": "code",
   "execution_count": 6,
   "id": "39e02124-e442-410f-922e-802b07563607",
   "metadata": {},
   "outputs": [
    {
     "data": {
      "text/plain": [
       "[0, 1]"
      ]
     },
     "execution_count": 6,
     "metadata": {},
     "output_type": "execute_result"
    }
   ],
   "source": [
    "list(range(0,2))"
   ]
  },
  {
   "cell_type": "code",
   "execution_count": 7,
   "id": "7edaf279-1654-457d-a512-f8d3d2ed2bbc",
   "metadata": {},
   "outputs": [
    {
     "data": {
      "text/plain": [
       "[0, 1, 2, 3, 4]"
      ]
     },
     "execution_count": 7,
     "metadata": {},
     "output_type": "execute_result"
    }
   ],
   "source": [
    "list(range(0,5))"
   ]
  },
  {
   "cell_type": "code",
   "execution_count": 8,
   "id": "6efcb539-efc1-4f76-8f73-7427235dbeb0",
   "metadata": {},
   "outputs": [
    {
     "data": {
      "text/plain": [
       "[0, 2, 4, 6]"
      ]
     },
     "execution_count": 8,
     "metadata": {},
     "output_type": "execute_result"
    }
   ],
   "source": [
    "list(range(0,7,2))"
   ]
  },
  {
   "cell_type": "code",
   "execution_count": 10,
   "id": "3131d7fd-a873-4ba2-a039-895acf8ba028",
   "metadata": {},
   "outputs": [
    {
     "data": {
      "text/plain": [
       "[10, 8, 6, 4, 2]"
      ]
     },
     "execution_count": 10,
     "metadata": {},
     "output_type": "execute_result"
    }
   ],
   "source": [
    "list(range(10,1,-2))"
   ]
  },
  {
   "cell_type": "code",
   "execution_count": 11,
   "id": "d2104f1d-7b64-44a4-b551-304f8c1524c9",
   "metadata": {},
   "outputs": [
    {
     "data": {
      "text/plain": [
       "<range_iterator at 0x7f9085484bd0>"
      ]
     },
     "execution_count": 11,
     "metadata": {},
     "output_type": "execute_result"
    }
   ],
   "source": [
    "v = iter(range(3))\n",
    "v"
   ]
  },
  {
   "cell_type": "code",
   "execution_count": 12,
   "id": "4ad256cd-064d-4b91-9bed-67b447c6d87d",
   "metadata": {},
   "outputs": [
    {
     "data": {
      "text/plain": [
       "[0, 1, 2]"
      ]
     },
     "execution_count": 12,
     "metadata": {},
     "output_type": "execute_result"
    }
   ],
   "source": [
    "list(v)"
   ]
  },
  {
   "cell_type": "code",
   "execution_count": 14,
   "id": "7817d1e7-fbae-489e-badc-1ca1feec4d68",
   "metadata": {},
   "outputs": [
    {
     "data": {
      "text/plain": [
       "0"
      ]
     },
     "execution_count": 14,
     "metadata": {},
     "output_type": "execute_result"
    }
   ],
   "source": [
    "v = iter(range(3))\n",
    "next(v)"
   ]
  },
  {
   "cell_type": "code",
   "execution_count": 15,
   "id": "bebc8554-2f9f-4d8d-91df-32fc74501fae",
   "metadata": {},
   "outputs": [
    {
     "data": {
      "text/plain": [
       "1"
      ]
     },
     "execution_count": 15,
     "metadata": {},
     "output_type": "execute_result"
    }
   ],
   "source": [
    "next(v)"
   ]
  },
  {
   "cell_type": "code",
   "execution_count": 16,
   "id": "86d2e37b-03a7-44f3-bf30-67c9529f8d69",
   "metadata": {},
   "outputs": [
    {
     "data": {
      "text/plain": [
       "2"
      ]
     },
     "execution_count": 16,
     "metadata": {},
     "output_type": "execute_result"
    }
   ],
   "source": [
    "next(v)"
   ]
  },
  {
   "cell_type": "code",
   "execution_count": 17,
   "id": "3c852a57-786a-4043-a93b-c68767e40e86",
   "metadata": {},
   "outputs": [
    {
     "ename": "StopIteration",
     "evalue": "",
     "output_type": "error",
     "traceback": [
      "\u001b[0;31m---------------------------------------------------------------------------\u001b[0m",
      "\u001b[0;31mStopIteration\u001b[0m                             Traceback (most recent call last)",
      "Cell \u001b[0;32mIn[17], line 1\u001b[0m\n\u001b[0;32m----> 1\u001b[0m \u001b[38;5;28;43mnext\u001b[39;49m\u001b[43m(\u001b[49m\u001b[43mv\u001b[49m\u001b[43m)\u001b[49m\n",
      "\u001b[0;31mStopIteration\u001b[0m: "
     ]
    }
   ],
   "source": [
    "next(v)"
   ]
  },
  {
   "cell_type": "code",
   "execution_count": 18,
   "id": "a8c8b48a-cc16-44f0-8cec-ebacb700368f",
   "metadata": {},
   "outputs": [],
   "source": [
    "t = iter(\"text\")"
   ]
  },
  {
   "cell_type": "code",
   "execution_count": 19,
   "id": "7ee8539a-7db1-47a1-a69f-1ae6be0523dd",
   "metadata": {},
   "outputs": [
    {
     "data": {
      "text/plain": [
       "'t'"
      ]
     },
     "execution_count": 19,
     "metadata": {},
     "output_type": "execute_result"
    }
   ],
   "source": [
    "next(t)"
   ]
  },
  {
   "cell_type": "code",
   "execution_count": 20,
   "id": "5f4d422e-eddb-433a-a591-4e752632797d",
   "metadata": {},
   "outputs": [
    {
     "data": {
      "text/plain": [
       "'e'"
      ]
     },
     "execution_count": 20,
     "metadata": {},
     "output_type": "execute_result"
    }
   ],
   "source": [
    "next(t)"
   ]
  },
  {
   "cell_type": "markdown",
   "id": "4c04714d-8cbe-4bb2-804a-4bcb0a774dcd",
   "metadata": {},
   "source": [
    "### Pāriesim pie cikliem\n",
    "\n",
    "```\n",
    "while nosacījums (True vai False):\n",
    "    izpildāmais kods, ja nosacījums ir spēkā\n",
    "else:  # šī daļa nav obligāta\n",
    "    izpildāms kods, ja nosacījums nav spēkā\n",
    "```"
   ]
  },
  {
   "cell_type": "code",
   "execution_count": null,
   "id": "d7353a79-657e-4703-baed-db186a14e9b9",
   "metadata": {},
   "outputs": [],
   "source": [
    "## Ieciklošanas piemērs\n",
    "# x = 1\n",
    "# while x>0:\n",
    "#     x+=1\n",
    "#     print(x)"
   ]
  },
  {
   "cell_type": "code",
   "execution_count": 22,
   "id": "f476b711-2604-4d7f-9e2c-bc390b5fc6f2",
   "metadata": {},
   "outputs": [
    {
     "name": "stdout",
     "output_type": "stream",
     "text": [
      "10\n",
      "9\n",
      "8\n",
      "7\n",
      "6\n",
      "5\n",
      "4\n",
      "3\n",
      "2\n",
      "1\n"
     ]
    }
   ],
   "source": [
    "x = 10\n",
    "while x>0:\n",
    "    print(x)\n",
    "    x-=1\n",
    "    # print(x)"
   ]
  },
  {
   "cell_type": "code",
   "execution_count": 23,
   "id": "69d3bdf3-edb0-4bce-a775-9f96b887289d",
   "metadata": {},
   "outputs": [
    {
     "name": "stdout",
     "output_type": "stream",
     "text": [
      "[0]\n",
      "[0, 2]\n",
      "[0, 2, 4]\n",
      "[0, 2, 4, 6]\n"
     ]
    }
   ],
   "source": [
    "myList = []\n",
    "i = 0\n",
    "while len(myList)<4:\n",
    "    myList.append(i)\n",
    "    i+=2\n",
    "    print(myList)"
   ]
  },
  {
   "cell_type": "code",
   "execution_count": 27,
   "id": "0b02686f-f1f4-4ef1-b606-6f313cbed28f",
   "metadata": {},
   "outputs": [],
   "source": [
    "del summa"
   ]
  },
  {
   "cell_type": "code",
   "execution_count": 28,
   "id": "2ddfe0d1-e383-45cc-985f-3693f03aefda",
   "metadata": {},
   "outputs": [
    {
     "ename": "NameError",
     "evalue": "name 'summa' is not defined",
     "output_type": "error",
     "traceback": [
      "\u001b[0;31m---------------------------------------------------------------------------\u001b[0m",
      "\u001b[0;31mNameError\u001b[0m                                 Traceback (most recent call last)",
      "Cell \u001b[0;32mIn[28], line 6\u001b[0m\n\u001b[1;32m      4\u001b[0m \u001b[38;5;66;03m# summa = 0\u001b[39;00m\n\u001b[1;32m      5\u001b[0m \u001b[38;5;28;01mwhile\u001b[39;00m i\u001b[38;5;241m<\u001b[39m\u001b[38;5;28mlen\u001b[39m(myList):\n\u001b[0;32m----> 6\u001b[0m     summa \u001b[38;5;241m=\u001b[39m \u001b[43msumma\u001b[49m \u001b[38;5;241m+\u001b[39m myList[i]\n\u001b[1;32m      7\u001b[0m     i\u001b[38;5;241m+\u001b[39m\u001b[38;5;241m=\u001b[39m\u001b[38;5;241m1\u001b[39m\n\u001b[1;32m      8\u001b[0m     \u001b[38;5;28mprint\u001b[39m(summa)\n",
      "\u001b[0;31mNameError\u001b[0m: name 'summa' is not defined"
     ]
    }
   ],
   "source": [
    "# Saskaitīt saraksta elementu summu\n",
    "myList = [23,45,12,10,25]\n",
    "i = 0\n",
    "# summa = 0\n",
    "while i<len(myList):\n",
    "    summa = summa + myList[i]\n",
    "    i+=1\n",
    "    print(summa)\n"
   ]
  },
  {
   "cell_type": "code",
   "execution_count": 25,
   "id": "134e0802-4b13-4272-a60b-879acc5b92b8",
   "metadata": {},
   "outputs": [
    {
     "name": "stdout",
     "output_type": "stream",
     "text": [
      "23\n",
      "68\n",
      "80\n",
      "90\n",
      "115\n"
     ]
    }
   ],
   "source": [
    "# alternatīva ar iter\n",
    "it_list = iter(myList)\n",
    "summa = 0\n",
    "i = 0\n",
    "while i<len(myList):\n",
    "    summa = summa + next(it_list)\n",
    "    # summa+=next(it_list)\n",
    "    i+=1\n",
    "    print(summa)"
   ]
  },
  {
   "cell_type": "code",
   "execution_count": null,
   "id": "267665ee-3d30-4deb-b559-fdbddde1b56c",
   "metadata": {},
   "outputs": [],
   "source": [
    "# izprintēt nepāra skaitļus no 0..10\n",
    "n = 0\n",
    "while n<=10:\n",
    "    if"
   ]
  },
  {
   "cell_type": "code",
   "execution_count": null,
   "id": "b784d6ca-a2d4-4085-9b69-ae8637ee92b2",
   "metadata": {},
   "outputs": [],
   "source": [
    "list\n",
    "if n>0:\n",
    "    \n",
    "    "
   ]
  },
  {
   "cell_type": "code",
   "execution_count": 31,
   "id": "bf50071b-ca27-41a0-921c-58658911dbce",
   "metadata": {},
   "outputs": [
    {
     "name": "stdout",
     "output_type": "stream",
     "text": [
      "[0]\n",
      "[0, 2]\n",
      "[0, 2, 4]\n",
      "[0, 2, 4, 6]\n",
      "[0, 2, 4, 6, 8]\n",
      "[0, 2, 4, 6, 8, 10]\n"
     ]
    }
   ],
   "source": [
    "n=0\n",
    "lists = []\n",
    "while n<=10:\n",
    "    if n % 2 == 0:\n",
    "        lists.append(n)\n",
    "        print(lists)\n",
    "    n+=1\n",
    "    # print(lists)"
   ]
  },
  {
   "cell_type": "code",
   "execution_count": 33,
   "id": "438e0848-7f49-4c1b-b824-dfb37ea4953f",
   "metadata": {},
   "outputs": [
    {
     "name": "stdout",
     "output_type": "stream",
     "text": [
      "0\n",
      "2\n",
      "4\n",
      "6\n",
      "8\n",
      "10\n"
     ]
    }
   ],
   "source": [
    "int_list = list(range(11))\n",
    "n = 0\n",
    "while n<=10:\n",
    "    if int_list[n]%2 ==0:\n",
    "        print(f'{int_list[n]}')\n",
    "    n += 1"
   ]
  },
  {
   "cell_type": "code",
   "execution_count": 34,
   "id": "1a1085b8-740c-4482-888b-f45fabe479ef",
   "metadata": {},
   "outputs": [],
   "source": [
    "# Break, pass un continue"
   ]
  },
  {
   "cell_type": "code",
   "execution_count": 35,
   "id": "cf164f36-e392-4430-9231-496323206048",
   "metadata": {},
   "outputs": [
    {
     "name": "stdout",
     "output_type": "stream",
     "text": [
      "1\n",
      "2\n"
     ]
    }
   ],
   "source": [
    "n = 0\n",
    "while n <=6:\n",
    "    n+=1\n",
    "    if n == 3:\n",
    "        break # ejam ārā no cikla un vairs neko nedara\n",
    "    else:\n",
    "        print(n)"
   ]
  },
  {
   "cell_type": "code",
   "execution_count": 36,
   "id": "30316ffe-c2c5-4891-9922-8ec30f7d88fe",
   "metadata": {},
   "outputs": [
    {
     "name": "stdout",
     "output_type": "stream",
     "text": [
      "1\n",
      "papildus:  1\n",
      "2\n",
      "papildus:  2\n",
      "papildus:  3\n",
      "4\n",
      "papildus:  4\n",
      "5\n",
      "papildus:  5\n",
      "6\n",
      "papildus:  6\n",
      "7\n",
      "papildus:  7\n"
     ]
    }
   ],
   "source": [
    "n = 0\n",
    "while n <=6:\n",
    "    n+=1\n",
    "    if n == 3:\n",
    "        pass # izlaiž un neko nedara\n",
    "    else:\n",
    "        print(n)\n",
    "    print('papildus: ',n)"
   ]
  },
  {
   "cell_type": "code",
   "execution_count": 38,
   "id": "95838e09-3972-4583-be30-f231e5b3bce5",
   "metadata": {},
   "outputs": [
    {
     "name": "stdout",
     "output_type": "stream",
     "text": [
      "1\n",
      "papildus:  1\n",
      "2\n",
      "papildus:  2\n",
      "papildus:  3\n",
      "4\n",
      "papildus:  4\n",
      "5\n",
      "papildus:  5\n",
      "6\n",
      "papildus:  6\n",
      "7\n",
      "papildus:  7\n"
     ]
    }
   ],
   "source": [
    "n = 0\n",
    "while n <=6:\n",
    "    n+=1\n",
    "    if n != 3:\n",
    "        print(n)\n",
    "    print('papildus: ',n)"
   ]
  },
  {
   "cell_type": "code",
   "execution_count": 37,
   "id": "18f7cfcd-2d39-496c-a2e1-0a442444d29f",
   "metadata": {},
   "outputs": [
    {
     "name": "stdout",
     "output_type": "stream",
     "text": [
      "1\n",
      "papildus:  1\n",
      "2\n",
      "papildus:  2\n",
      "4\n",
      "papildus:  4\n",
      "5\n",
      "papildus:  5\n",
      "6\n",
      "papildus:  6\n",
      "7\n",
      "papildus:  7\n"
     ]
    }
   ],
   "source": [
    "n = 0\n",
    "while n <=6:\n",
    "    n+=1\n",
    "    if n == 3:\n",
    "        continue # neko neizdarīja un aizgāja nākamajā iterācijā\n",
    "    else:\n",
    "        print(n)\n",
    "    print('papildus: ',n)"
   ]
  },
  {
   "cell_type": "code",
   "execution_count": null,
   "id": "4bbe44bf-e7d5-45a6-8207-f23d4e04249e",
   "metadata": {},
   "outputs": [],
   "source": []
  },
  {
   "cell_type": "markdown",
   "id": "0175d1d1-7f2d-4416-a88b-53775fc21a61",
   "metadata": {},
   "source": [
    "FOR cikls\n",
    "\n",
    "Cikla sintakse:\n",
    "\n",
    "``` \n",
    "for elements in elementu_saraksts:\n",
    "    darbība (ar kārtējo elementu)\n",
    "else: # šī daļa nav obligāta\n",
    "    darbība, kad elementi sarakstā ir beigušies\n",
    "```"
   ]
  },
  {
   "cell_type": "code",
   "execution_count": 40,
   "id": "f42e6f29-551f-418a-800d-1a2694f7c311",
   "metadata": {},
   "outputs": [
    {
     "name": "stdout",
     "output_type": "stream",
     "text": [
      "2\n",
      "Pāra skaitlis:  2\n",
      "4\n",
      "Pāra skaitlis:  4\n",
      "6\n",
      "Pāra skaitlis:  6\n",
      "7\n",
      "1\n",
      "8\n",
      "Pāra skaitlis:  8\n"
     ]
    }
   ],
   "source": [
    "el_saraksts = [2,4,6,7,1,8]\n",
    "# izprintēt pāra skaitļus\n",
    "for x in el_saraksts:\n",
    "    print(x)\n",
    "    if x%2 ==0:\n",
    "        print('Pāra skaitlis: ',x)"
   ]
  },
  {
   "cell_type": "code",
   "execution_count": 41,
   "id": "11b9db80-306e-4c92-a6d6-3e05fe3f6b48",
   "metadata": {},
   "outputs": [
    {
     "name": "stdout",
     "output_type": "stream",
     "text": [
      "0\n",
      "1\n",
      "2\n",
      "3\n",
      "4\n",
      "5\n",
      "6\n",
      "7\n"
     ]
    }
   ],
   "source": [
    "for x in range(8):\n",
    "    print(x)"
   ]
  },
  {
   "cell_type": "code",
   "execution_count": 44,
   "id": "b801339f-00cc-4228-acbe-7197d1a1c627",
   "metadata": {},
   "outputs": [
    {
     "name": "stdout",
     "output_type": "stream",
     "text": [
      "23\n",
      "48\n",
      "60\n",
      "70\n",
      "97\n"
     ]
    }
   ],
   "source": [
    "myList = [23,25,12,10,27]\n",
    "it_list = iter(myList)\n",
    "# iegūt elementu summu\n",
    "summa = 0\n",
    "# izmanto _, ja nevajag izmantot skriptā iteratoru (iepriekš ar x)\n",
    "for _ in range(len(myList)):\n",
    "    summa+=next(it_list)\n",
    "    print(summa)"
   ]
  },
  {
   "cell_type": "code",
   "execution_count": 43,
   "id": "bce80da1-6d17-404e-b5a5-0b22e3ff34da",
   "metadata": {},
   "outputs": [
    {
     "data": {
      "text/plain": [
       "97"
      ]
     },
     "execution_count": 43,
     "metadata": {},
     "output_type": "execute_result"
    }
   ],
   "source": [
    "summa"
   ]
  },
  {
   "cell_type": "code",
   "execution_count": null,
   "id": "dc5f4037-c420-46b0-bfae-24370a6dbfff",
   "metadata": {},
   "outputs": [],
   "source": [
    "# dots saraksts un vajag izprintēt elementus kvadrātā [1,2,4] -> [1,4,16]\n",
    "\n",
    "list1 = [3,5,7,8]\n",
    "for ..."
   ]
  },
  {
   "cell_type": "code",
   "execution_count": 46,
   "id": "c0007a95-3ba6-4190-85ac-dd65ce8f9387",
   "metadata": {},
   "outputs": [
    {
     "name": "stdout",
     "output_type": "stream",
     "text": [
      "[9, 25, 49, 64]\n"
     ]
    }
   ],
   "source": [
    "list1 = [3,5,7,8]\n",
    "new_list = []\n",
    "for i in list1:\n",
    "    new_list.append(pow(i,2))\n",
    "\n",
    "print(new_list)"
   ]
  },
  {
   "cell_type": "code",
   "execution_count": 47,
   "id": "2321a52b-0a8a-48a2-998a-9775d20ebf85",
   "metadata": {},
   "outputs": [
    {
     "name": "stdout",
     "output_type": "stream",
     "text": [
      "[9, 25, 49, 64]\n"
     ]
    }
   ],
   "source": [
    "list1 = [3, 5,7,8]\n",
    "for i in range(len(list1)):\n",
    "    list1[i] = list1[i] ** 2\n",
    "\n",
    "print(list1)"
   ]
  },
  {
   "cell_type": "code",
   "execution_count": 49,
   "id": "6c7fc7c9-3233-40f5-8f41-7a08966cd91c",
   "metadata": {},
   "outputs": [
    {
     "name": "stdout",
     "output_type": "stream",
     "text": [
      "9\n",
      "25\n",
      "49\n",
      "64\n"
     ]
    }
   ],
   "source": [
    "list1 = [3, 5, 7, 8]\n",
    "it_list = iter(list1)\n",
    "for _ in list1:\n",
    "    print(next(it_list)**2)"
   ]
  },
  {
   "cell_type": "code",
   "execution_count": 53,
   "id": "b564ff1a-c8b3-49b0-9031-ee3847d04dc1",
   "metadata": {},
   "outputs": [
    {
     "name": "stdout",
     "output_type": "stream",
     "text": [
      "jkjk\n",
      "J\n",
      "K\n",
      "J\n",
      "K\n",
      "jkjk\n",
      "J\n",
      "K\n",
      "J\n",
      "K\n",
      "jkjk\n",
      "J\n",
      "K\n",
      "J\n",
      "K\n",
      "jkjk\n",
      "J\n",
      "K\n",
      "J\n",
      "K\n"
     ]
    }
   ],
   "source": [
    "# Cikls ciklā\n",
    "word_list = [\"monkey\",\"like\",\"banana\",\"word\"]\n",
    "word = \"hgj\"\n",
    "for word in word_list:\n",
    "    word = \"jkjk\"\n",
    "    print(word)\n",
    "    for letter in word:\n",
    "        print(letter.capitalize())"
   ]
  },
  {
   "cell_type": "markdown",
   "id": "a6141c28-096e-48d7-a6ed-ef62041ef821",
   "metadata": {},
   "source": [
    "### List comprehension \n",
    "\n",
    "[izteiksme(val) for val in saraksts]"
   ]
  },
  {
   "cell_type": "code",
   "execution_count": 54,
   "id": "1e315ae1-b543-4274-83ef-61b1a011b330",
   "metadata": {},
   "outputs": [
    {
     "ename": "TypeError",
     "evalue": "bad operand type for abs(): 'list'",
     "output_type": "error",
     "traceback": [
      "\u001b[0;31m---------------------------------------------------------------------------\u001b[0m",
      "\u001b[0;31mTypeError\u001b[0m                                 Traceback (most recent call last)",
      "Cell \u001b[0;32mIn[54], line 2\u001b[0m\n\u001b[1;32m      1\u001b[0m a \u001b[38;5;241m=\u001b[39m [\u001b[38;5;241m1\u001b[39m,\u001b[38;5;241m2\u001b[39m,\u001b[38;5;241m-\u001b[39m\u001b[38;5;241m5\u001b[39m,\u001b[38;5;241m6\u001b[39m,\u001b[38;5;241m-\u001b[39m\u001b[38;5;241m7\u001b[39m,\u001b[38;5;241m0\u001b[39m]\n\u001b[0;32m----> 2\u001b[0m \u001b[38;5;28;43mabs\u001b[39;49m\u001b[43m(\u001b[49m\u001b[43ma\u001b[49m\u001b[43m)\u001b[49m\n",
      "\u001b[0;31mTypeError\u001b[0m: bad operand type for abs(): 'list'"
     ]
    }
   ],
   "source": [
    "a = [1,2,-5,6,-7,0]\n",
    "abs(a)"
   ]
  },
  {
   "cell_type": "code",
   "execution_count": 55,
   "id": "046644ea-73f9-4bee-91b9-f373c2d18541",
   "metadata": {},
   "outputs": [
    {
     "data": {
      "text/plain": [
       "[1, 2, 5, 6, 7, 0]"
      ]
     },
     "execution_count": 55,
     "metadata": {},
     "output_type": "execute_result"
    }
   ],
   "source": [
    "[abs(x) for x in a]"
   ]
  },
  {
   "cell_type": "code",
   "execution_count": 56,
   "id": "c2c2c220-5bc7-4eba-b369-a0e2893091c0",
   "metadata": {},
   "outputs": [
    {
     "data": {
      "text/plain": [
       "[1, 4, 25, 36, 49, 0]"
      ]
     },
     "execution_count": 56,
     "metadata": {},
     "output_type": "execute_result"
    }
   ],
   "source": [
    "[x**2 for x in a]"
   ]
  },
  {
   "cell_type": "code",
   "execution_count": 57,
   "id": "12d37549-e857-4b4b-86e4-fb1030044512",
   "metadata": {},
   "outputs": [
    {
     "name": "stdin",
     "output_type": "stream",
     "text": [
      " 2 5 10 6 8\n"
     ]
    }
   ],
   "source": [
    "a = input()"
   ]
  },
  {
   "cell_type": "code",
   "execution_count": 58,
   "id": "eee0cc30-10d9-4143-88e0-eaf04dd391fb",
   "metadata": {},
   "outputs": [
    {
     "data": {
      "text/plain": [
       "'2 5 10 6 8'"
      ]
     },
     "execution_count": 58,
     "metadata": {},
     "output_type": "execute_result"
    }
   ],
   "source": [
    "a"
   ]
  },
  {
   "cell_type": "code",
   "execution_count": 59,
   "id": "71790c2c-3f81-444e-bd7b-d11e5b9f67cd",
   "metadata": {},
   "outputs": [
    {
     "data": {
      "text/plain": [
       "str"
      ]
     },
     "execution_count": 59,
     "metadata": {},
     "output_type": "execute_result"
    }
   ],
   "source": [
    "type(a)"
   ]
  },
  {
   "cell_type": "code",
   "execution_count": 60,
   "id": "86f60cfe-ed93-405d-9c21-47cfdf927b64",
   "metadata": {},
   "outputs": [
    {
     "data": {
      "text/plain": [
       "['2', '5', '10', '6', '8']"
      ]
     },
     "execution_count": 60,
     "metadata": {},
     "output_type": "execute_result"
    }
   ],
   "source": [
    "a.split()"
   ]
  },
  {
   "cell_type": "code",
   "execution_count": 62,
   "id": "ca36cdfe-dfd4-4238-b472-88fe70839d43",
   "metadata": {},
   "outputs": [
    {
     "data": {
      "text/plain": [
       "[2, 5, 10, 6, 8]"
      ]
     },
     "execution_count": 62,
     "metadata": {},
     "output_type": "execute_result"
    }
   ],
   "source": [
    "[int(x) for x in a.split()]"
   ]
  },
  {
   "cell_type": "code",
   "execution_count": 63,
   "id": "9c623751-7837-426b-ac24-4b8f2c1a6d02",
   "metadata": {},
   "outputs": [
    {
     "data": {
      "text/plain": [
       "[('a', 0),\n",
       " ('a', 1),\n",
       " ('a', 2),\n",
       " ('b', 0),\n",
       " ('b', 1),\n",
       " ('b', 2),\n",
       " ('c', 0),\n",
       " ('c', 1),\n",
       " ('c', 2)]"
      ]
     },
     "execution_count": 63,
     "metadata": {},
     "output_type": "execute_result"
    }
   ],
   "source": [
    "# dubultais cikls\n",
    "\n",
    "[(i,j) for i in 'abc' for j in range(3)]"
   ]
  },
  {
   "cell_type": "code",
   "execution_count": 64,
   "id": "74284a3c-837a-4acc-b033-982c8c061698",
   "metadata": {},
   "outputs": [
    {
     "data": {
      "text/plain": [
       "[0, 1, 2, 1, 2, 3, 2, 3, 4, 3, 4, 5, 4, 5, 6]"
      ]
     },
     "execution_count": 64,
     "metadata": {},
     "output_type": "execute_result"
    }
   ],
   "source": [
    "[i+j for i in range(5) for j in range(3)]\n",
    "\n",
    "# i = 0 \n",
    "# 0+0,0+1,0+2\n",
    "# 1+0,1+1,1+2\n",
    "# 2+0,2+1,2+2"
   ]
  },
  {
   "cell_type": "code",
   "execution_count": 66,
   "id": "15908f79-869d-44e5-b588-83065494dedf",
   "metadata": {},
   "outputs": [],
   "source": [
    "# [i+j+k for i in range(5) for j in range(3) for k in range(6) ]"
   ]
  },
  {
   "cell_type": "code",
   "execution_count": 67,
   "id": "96b8134b-4f14-45d2-9262-75f92079519f",
   "metadata": {},
   "outputs": [
    {
     "data": {
      "text/plain": [
       "[2, 34, 6, 4, 6, 8]"
      ]
     },
     "execution_count": 67,
     "metadata": {},
     "output_type": "execute_result"
    }
   ],
   "source": [
    "# izmantot nosacījumi, pielietojot if konstrukciju\n",
    "myList = [1,2,34,6,5,4,3,6,8]\n",
    "# izprintēt pāra skaitļi\n",
    "[x for x in myList if x%2==0]"
   ]
  },
  {
   "cell_type": "code",
   "execution_count": 68,
   "id": "45460acf-0008-498b-8c1c-2b35aae27c92",
   "metadata": {},
   "outputs": [],
   "source": [
    "new_list = [x for x in myList if x%2==0]"
   ]
  },
  {
   "cell_type": "code",
   "execution_count": 69,
   "id": "4ca09e4b-9db7-4db5-a5e4-d678bb688e07",
   "metadata": {},
   "outputs": [
    {
     "name": "stdout",
     "output_type": "stream",
     "text": [
      "[1, 2, 3, 4, 6, 7]\n"
     ]
    }
   ],
   "source": [
    "# Uzdevums\n",
    "l = [1,1,1,2,2,2,3,3,3,4,6,7]\n",
    "# iegūt unikālo elementu sarakstu, neizmantojot set()\n",
    "\n",
    "# izmantojot for ciklu\n",
    "new_l = []\n",
    "\n",
    "for elem in l:\n",
    "    if elem not in new_l:\n",
    "        new_l.append(elem)\n",
    "\n",
    "print(new_l)"
   ]
  },
  {
   "cell_type": "code",
   "execution_count": 82,
   "id": "9df8f5ee-db27-4858-aa87-41917416108e",
   "metadata": {},
   "outputs": [],
   "source": [
    "l.append(5)"
   ]
  },
  {
   "cell_type": "code",
   "execution_count": 74,
   "id": "c8996d43-5ec1-4244-a7c9-b3e694dfd648",
   "metadata": {},
   "outputs": [
    {
     "data": {
      "text/plain": [
       "[1, 1, 1, 2, 2, 2, 3, 3, 3, 4, 6, 7, 5]"
      ]
     },
     "execution_count": 74,
     "metadata": {},
     "output_type": "execute_result"
    }
   ],
   "source": [
    "l"
   ]
  },
  {
   "cell_type": "code",
   "execution_count": 80,
   "id": "a135ee96-8947-4566-b578-cf3cd0145b5b",
   "metadata": {},
   "outputs": [],
   "source": [
    "l_unique = []\n",
    "_ = [l_unique.append(x) for x in l if x not in l_unique]"
   ]
  },
  {
   "cell_type": "code",
   "execution_count": 79,
   "id": "0a2865b1-afd0-46e4-9995-fe0487fabb15",
   "metadata": {},
   "outputs": [
    {
     "data": {
      "text/plain": [
       "[1, 2, 3, 4, 6, 7, 5]"
      ]
     },
     "execution_count": 79,
     "metadata": {},
     "output_type": "execute_result"
    }
   ],
   "source": [
    "l_unique"
   ]
  },
  {
   "cell_type": "markdown",
   "id": "d6efea16-f88e-42a6-8fc0-7ddbeb789241",
   "metadata": {},
   "source": [
    "### Funkcijas\n",
    "\n",
    "Koda fragments, kas tiek vairākkārt. \n",
    "\n",
    "def \"funkcijas_nosaukums\"(parametri):\n",
    "\n",
    "    funkcijas saturs"
   ]
  },
  {
   "cell_type": "code",
   "execution_count": 90,
   "id": "e80c37f2-6df3-48b2-89c6-b39f269402fb",
   "metadata": {},
   "outputs": [],
   "source": [
    "def square(x: int):\n",
    "    '''\n",
    "    Funkcija, kas saņemot skaitli izvada skaitli kvadrātā\n",
    "    ierobežojumi, par mainīgiem\n",
    "    '''\n",
    "    print(\"Skaitlis kvadrātā \", pow(x,2))\n",
    "   "
   ]
  },
  {
   "cell_type": "code",
   "execution_count": 91,
   "id": "731fda4b-0c0c-46d0-aab8-74945bf0ddfc",
   "metadata": {},
   "outputs": [
    {
     "name": "stdout",
     "output_type": "stream",
     "text": [
      "Skaitlis kvadrātā  16\n"
     ]
    },
    {
     "data": {
      "text/plain": [
       "'tets'"
      ]
     },
     "execution_count": 91,
     "metadata": {},
     "output_type": "execute_result"
    }
   ],
   "source": [
    "square(4)"
   ]
  },
  {
   "cell_type": "code",
   "execution_count": 86,
   "id": "5600b04d-af72-47d5-a3c2-e7bfd638327e",
   "metadata": {},
   "outputs": [
    {
     "name": "stdout",
     "output_type": "stream",
     "text": [
      "Skaitlis kvadrātā  20.25\n"
     ]
    }
   ],
   "source": [
    "square(4.5)"
   ]
  },
  {
   "cell_type": "code",
   "execution_count": 87,
   "id": "dbcdc7fc-b8a8-4f15-b540-cb7fdabe0697",
   "metadata": {},
   "outputs": [
    {
     "ename": "TypeError",
     "evalue": "unsupported operand type(s) for ** or pow(): 'str' and 'int'",
     "output_type": "error",
     "traceback": [
      "\u001b[0;31m---------------------------------------------------------------------------\u001b[0m",
      "\u001b[0;31mTypeError\u001b[0m                                 Traceback (most recent call last)",
      "Cell \u001b[0;32mIn[87], line 1\u001b[0m\n\u001b[0;32m----> 1\u001b[0m \u001b[43msquare\u001b[49m\u001b[43m(\u001b[49m\u001b[38;5;124;43m\"\u001b[39;49m\u001b[38;5;124;43mteksts\u001b[39;49m\u001b[38;5;124;43m\"\u001b[39;49m\u001b[43m)\u001b[49m\n",
      "Cell \u001b[0;32mIn[84], line 6\u001b[0m, in \u001b[0;36msquare\u001b[0;34m(x)\u001b[0m\n\u001b[1;32m      1\u001b[0m \u001b[38;5;28;01mdef\u001b[39;00m \u001b[38;5;21msquare\u001b[39m(x: \u001b[38;5;28mint\u001b[39m):\n\u001b[1;32m      2\u001b[0m \u001b[38;5;250m    \u001b[39m\u001b[38;5;124;03m'''\u001b[39;00m\n\u001b[1;32m      3\u001b[0m \u001b[38;5;124;03m    Funkcija, kas saņemot skaitli izvada skaitli kvadrātā\u001b[39;00m\n\u001b[1;32m      4\u001b[0m \u001b[38;5;124;03m    ierobežojumi, par mainīgiem\u001b[39;00m\n\u001b[1;32m      5\u001b[0m \u001b[38;5;124;03m    '''\u001b[39;00m\n\u001b[0;32m----> 6\u001b[0m     \u001b[38;5;28mprint\u001b[39m(\u001b[38;5;124m\"\u001b[39m\u001b[38;5;124mSkaitlis kvadrātā \u001b[39m\u001b[38;5;124m\"\u001b[39m, \u001b[38;5;28;43mpow\u001b[39;49m\u001b[43m(\u001b[49m\u001b[43mx\u001b[49m\u001b[43m,\u001b[49m\u001b[38;5;241;43m2\u001b[39;49m\u001b[43m)\u001b[49m)\n",
      "\u001b[0;31mTypeError\u001b[0m: unsupported operand type(s) for ** or pow(): 'str' and 'int'"
     ]
    }
   ],
   "source": [
    "square(\"teksts\")"
   ]
  },
  {
   "cell_type": "code",
   "execution_count": 93,
   "id": "98e0dbdc-9dc4-462e-a484-cbcea76ca39e",
   "metadata": {},
   "outputs": [
    {
     "ename": "TypeError",
     "evalue": "square() takes 1 positional argument but 3 were given",
     "output_type": "error",
     "traceback": [
      "\u001b[0;31m---------------------------------------------------------------------------\u001b[0m",
      "\u001b[0;31mTypeError\u001b[0m                                 Traceback (most recent call last)",
      "Cell \u001b[0;32mIn[93], line 1\u001b[0m\n\u001b[0;32m----> 1\u001b[0m \u001b[43msquare\u001b[49m\u001b[43m(\u001b[49m\u001b[38;5;241;43m2\u001b[39;49m\u001b[43m,\u001b[49m\u001b[38;5;241;43m3\u001b[39;49m\u001b[43m,\u001b[49m\u001b[38;5;241;43m3\u001b[39;49m\u001b[43m)\u001b[49m\n",
      "\u001b[0;31mTypeError\u001b[0m: square() takes 1 positional argument but 3 were given"
     ]
    }
   ],
   "source": [
    "square(2,3,3)"
   ]
  },
  {
   "cell_type": "code",
   "execution_count": 116,
   "id": "7d28826a-f32a-46c5-8573-8fc9ecc745e1",
   "metadata": {},
   "outputs": [],
   "source": [
    "# Vai skaitlis ir pirmskaitlis (3,2,5,7,...)\n",
    "def check_pirmskaitlis(x:int):\n",
    "    if (x==1) or (x==0):\n",
    "        return False\n",
    "    j = 0 \n",
    "    for i in range(2,x):\n",
    "        if x%i==0:\n",
    "            print(i)\n",
    "            j+=1\n",
    "    return not(bool(j))\n",
    "\n"
   ]
  },
  {
   "cell_type": "code",
   "execution_count": null,
   "id": "0947a238-1a61-494d-928b-a6d18c28a675",
   "metadata": {},
   "outputs": [],
   "source": [
    "def check_prime(x):\n",
    "    if (x == 1) or (x == 0):\n",
    "        return False\n",
    "    for i in range(2,x): # [2,3,4,5,x-1]\n",
    "        if x%i==0:\n",
    "            ---\n",
    "        else:\n",
    "            --\n",
    "    return "
   ]
  },
  {
   "cell_type": "code",
   "execution_count": 119,
   "id": "b497d749-aa0f-4945-84f0-f3ebaf7b0126",
   "metadata": {},
   "outputs": [
    {
     "data": {
      "text/plain": [
       "True"
      ]
     },
     "execution_count": 119,
     "metadata": {},
     "output_type": "execute_result"
    }
   ],
   "source": [
    "check_pirmskaitlis(5)"
   ]
  },
  {
   "cell_type": "code",
   "execution_count": 118,
   "id": "42684cd4-0c7d-47f0-a6de-63b0b5b703c6",
   "metadata": {},
   "outputs": [
    {
     "name": "stdout",
     "output_type": "stream",
     "text": [
      "2\n",
      "4\n"
     ]
    },
    {
     "data": {
      "text/plain": [
       "False"
      ]
     },
     "execution_count": 118,
     "metadata": {},
     "output_type": "execute_result"
    }
   ],
   "source": [
    "check_pirmskaitlis(8)"
   ]
  },
  {
   "cell_type": "code",
   "execution_count": 117,
   "id": "7b30f6f7-e670-40c5-be2b-0d7163d201d2",
   "metadata": {},
   "outputs": [
    {
     "name": "stdout",
     "output_type": "stream",
     "text": [
      "5\n",
      "11\n"
     ]
    },
    {
     "data": {
      "text/plain": [
       "False"
      ]
     },
     "execution_count": 117,
     "metadata": {},
     "output_type": "execute_result"
    }
   ],
   "source": [
    "check_pirmskaitlis(55)"
   ]
  },
  {
   "cell_type": "code",
   "execution_count": 120,
   "id": "f94d3a40-8c80-43ab-8550-3a7bce5620ea",
   "metadata": {},
   "outputs": [
    {
     "name": "stdout",
     "output_type": "stream",
     "text": [
      "7\n",
      "11\n"
     ]
    },
    {
     "data": {
      "text/plain": [
       "False"
      ]
     },
     "execution_count": 120,
     "metadata": {},
     "output_type": "execute_result"
    }
   ],
   "source": [
    "check_pirmskaitlis(77)"
   ]
  },
  {
   "cell_type": "code",
   "execution_count": null,
   "id": "0e34f2c7-1b10-4ae7-bb90-c40b24f877da",
   "metadata": {},
   "outputs": [],
   "source": [
    "5! = 5*4*3*2*1 n! = n*(n-1)(n-2)...1"
   ]
  },
  {
   "cell_type": "markdown",
   "id": "4b3c8485-3bf0-4d9c-972e-d016316cffab",
   "metadata": {},
   "source": [
    "# Lokālie un globālie mainīgie\n",
    "ir svarīgi kurā vietā ir definēts mainīgais"
   ]
  },
  {
   "cell_type": "code",
   "execution_count": 121,
   "id": "d69fcde7-352c-4886-8f64-a0c2a0618ff7",
   "metadata": {},
   "outputs": [],
   "source": [
    "def s():\n",
    "    # lokālie mainīgie\n",
    "    t,r,c = 1,2,3\n",
    "    print(t,r,c)"
   ]
  },
  {
   "cell_type": "code",
   "execution_count": 122,
   "id": "71cffb93-77af-4475-881e-470d5ebe9b39",
   "metadata": {},
   "outputs": [
    {
     "name": "stdout",
     "output_type": "stream",
     "text": [
      "1 2 3\n"
     ]
    }
   ],
   "source": [
    "s()"
   ]
  },
  {
   "cell_type": "code",
   "execution_count": 124,
   "id": "bbd7e5f4-caaa-4af9-bce6-b073714f8af8",
   "metadata": {},
   "outputs": [
    {
     "ename": "NameError",
     "evalue": "name 'r' is not defined",
     "output_type": "error",
     "traceback": [
      "\u001b[0;31m---------------------------------------------------------------------------\u001b[0m",
      "\u001b[0;31mNameError\u001b[0m                                 Traceback (most recent call last)",
      "Cell \u001b[0;32mIn[124], line 1\u001b[0m\n\u001b[0;32m----> 1\u001b[0m \u001b[38;5;28mprint\u001b[39m(\u001b[43mr\u001b[49m)\n",
      "\u001b[0;31mNameError\u001b[0m: name 'r' is not defined"
     ]
    }
   ],
   "source": [
    "print(r)"
   ]
  },
  {
   "cell_type": "code",
   "execution_count": 126,
   "id": "0045e631-b08b-4f9f-a94b-475a6bc94d31",
   "metadata": {},
   "outputs": [],
   "source": [
    "def q():\n",
    "    r,t = 2,3\n",
    "    print(r,t,c)"
   ]
  },
  {
   "cell_type": "code",
   "execution_count": 127,
   "id": "77d3002d-e311-4586-af51-ccc318fe7fe7",
   "metadata": {},
   "outputs": [
    {
     "ename": "NameError",
     "evalue": "name 'c' is not defined",
     "output_type": "error",
     "traceback": [
      "\u001b[0;31m---------------------------------------------------------------------------\u001b[0m",
      "\u001b[0;31mNameError\u001b[0m                                 Traceback (most recent call last)",
      "Cell \u001b[0;32mIn[127], line 1\u001b[0m\n\u001b[0;32m----> 1\u001b[0m \u001b[43mq\u001b[49m\u001b[43m(\u001b[49m\u001b[43m)\u001b[49m\n",
      "Cell \u001b[0;32mIn[126], line 3\u001b[0m, in \u001b[0;36mq\u001b[0;34m()\u001b[0m\n\u001b[1;32m      1\u001b[0m \u001b[38;5;28;01mdef\u001b[39;00m \u001b[38;5;21mq\u001b[39m():\n\u001b[1;32m      2\u001b[0m     r,t \u001b[38;5;241m=\u001b[39m \u001b[38;5;241m2\u001b[39m,\u001b[38;5;241m3\u001b[39m\n\u001b[0;32m----> 3\u001b[0m     \u001b[38;5;28mprint\u001b[39m(r,t,\u001b[43mc\u001b[49m)\n",
      "\u001b[0;31mNameError\u001b[0m: name 'c' is not defined"
     ]
    }
   ],
   "source": [
    "q()"
   ]
  },
  {
   "cell_type": "markdown",
   "id": "21594a3b-4f3f-4148-a569-2a3bb5d6c6e3",
   "metadata": {},
   "source": [
    "### Globālie - viss, kas ārpus funkcijas"
   ]
  },
  {
   "cell_type": "code",
   "execution_count": 128,
   "id": "f4e40213-2c80-4f5e-ae55-135e92a9cd82",
   "metadata": {},
   "outputs": [],
   "source": [
    "w = 'hello'\n",
    "y = 100\n",
    "def q():\n",
    "    r,t = 2,3\n",
    "    print(r,t,w)"
   ]
  },
  {
   "cell_type": "code",
   "execution_count": 129,
   "id": "fba1ff10-f2f5-412e-9d26-8aca6f26f303",
   "metadata": {},
   "outputs": [
    {
     "name": "stdout",
     "output_type": "stream",
     "text": [
      "2 3 hello\n"
     ]
    }
   ],
   "source": [
    "q()"
   ]
  },
  {
   "cell_type": "code",
   "execution_count": 130,
   "id": "f93a1978-8d7b-4d74-b6de-6ae22786a931",
   "metadata": {},
   "outputs": [],
   "source": [
    "def q():\n",
    "    r,t = 2,3\n",
    "    w = 'tt'\n",
    "    print(r,t,w)"
   ]
  },
  {
   "cell_type": "code",
   "execution_count": 131,
   "id": "5fc16bef-365b-44d5-bb60-400c47d8a9a8",
   "metadata": {},
   "outputs": [
    {
     "name": "stdout",
     "output_type": "stream",
     "text": [
      "2 3 tt\n"
     ]
    }
   ],
   "source": [
    "q()"
   ]
  },
  {
   "cell_type": "code",
   "execution_count": 134,
   "id": "a0627d1c-9e46-4556-b116-c6a9f1c5da57",
   "metadata": {},
   "outputs": [
    {
     "data": {
      "text/plain": [
       "'hello'"
      ]
     },
     "execution_count": 134,
     "metadata": {},
     "output_type": "execute_result"
    }
   ],
   "source": [
    "w"
   ]
  },
  {
   "cell_type": "code",
   "execution_count": 132,
   "id": "fd877830-0a88-4c35-972a-04c5e188c063",
   "metadata": {},
   "outputs": [],
   "source": [
    "\n",
    "def q():\n",
    "    print(w)\n",
    "    r,t=2,3\n",
    "    w='tt'\n",
    "    print(r,t,w)"
   ]
  },
  {
   "cell_type": "code",
   "execution_count": 133,
   "id": "157464e6-63ec-4f73-840b-44cc5440f980",
   "metadata": {},
   "outputs": [
    {
     "ename": "UnboundLocalError",
     "evalue": "local variable 'w' referenced before assignment",
     "output_type": "error",
     "traceback": [
      "\u001b[0;31m---------------------------------------------------------------------------\u001b[0m",
      "\u001b[0;31mUnboundLocalError\u001b[0m                         Traceback (most recent call last)",
      "Cell \u001b[0;32mIn[133], line 1\u001b[0m\n\u001b[0;32m----> 1\u001b[0m \u001b[43mq\u001b[49m\u001b[43m(\u001b[49m\u001b[43m)\u001b[49m\n",
      "Cell \u001b[0;32mIn[132], line 2\u001b[0m, in \u001b[0;36mq\u001b[0;34m()\u001b[0m\n\u001b[1;32m      1\u001b[0m \u001b[38;5;28;01mdef\u001b[39;00m \u001b[38;5;21mq\u001b[39m():\n\u001b[0;32m----> 2\u001b[0m     \u001b[38;5;28mprint\u001b[39m(\u001b[43mw\u001b[49m)\n\u001b[1;32m      3\u001b[0m     r,t\u001b[38;5;241m=\u001b[39m\u001b[38;5;241m2\u001b[39m,\u001b[38;5;241m3\u001b[39m\n\u001b[1;32m      4\u001b[0m     w\u001b[38;5;241m=\u001b[39m\u001b[38;5;124m'\u001b[39m\u001b[38;5;124mtt\u001b[39m\u001b[38;5;124m'\u001b[39m\n",
      "\u001b[0;31mUnboundLocalError\u001b[0m: local variable 'w' referenced before assignment"
     ]
    }
   ],
   "source": [
    "q()"
   ]
  },
  {
   "cell_type": "code",
   "execution_count": 135,
   "id": "ce3db339-0a35-4abe-9a2f-9ef624beb8da",
   "metadata": {},
   "outputs": [
    {
     "name": "stdout",
     "output_type": "stream",
     "text": [
      "11 22 local\n"
     ]
    }
   ],
   "source": [
    "def s():\n",
    "    a = 11\n",
    "    b = 22\n",
    "    print(a,b,'local')\n",
    "\n",
    "a = 100\n",
    "b = 200\n",
    "s()"
   ]
  },
  {
   "cell_type": "code",
   "execution_count": 136,
   "id": "6b55e443-d23c-47a1-84c3-4d981b0a2676",
   "metadata": {},
   "outputs": [
    {
     "name": "stdout",
     "output_type": "stream",
     "text": [
      "100 200\n"
     ]
    }
   ],
   "source": [
    "print(a,b)"
   ]
  },
  {
   "cell_type": "code",
   "execution_count": 140,
   "id": "fa480443-af99-43aa-bc6d-8964800ad598",
   "metadata": {},
   "outputs": [],
   "source": [
    "# definēt globālo mainīgo\n",
    "a = 100\n",
    "b = 200\n",
    "\n",
    "def s():\n",
    "    global a \n",
    "    global b\n",
    "    a = 45\n",
    "    b = 25\n",
    "    print(a,b)\n",
    "\n"
   ]
  },
  {
   "cell_type": "code",
   "execution_count": 141,
   "id": "c9ecd96b-91ea-4581-ba94-5356a472a8c2",
   "metadata": {},
   "outputs": [
    {
     "name": "stdout",
     "output_type": "stream",
     "text": [
      "45 25\n"
     ]
    }
   ],
   "source": [
    "s()"
   ]
  },
  {
   "cell_type": "code",
   "execution_count": 142,
   "id": "7e807b54-4829-421c-a181-ed14fdcf9eeb",
   "metadata": {},
   "outputs": [
    {
     "name": "stdout",
     "output_type": "stream",
     "text": [
      "45 25\n"
     ]
    }
   ],
   "source": [
    "print(a,b)"
   ]
  },
  {
   "cell_type": "code",
   "execution_count": null,
   "id": "8cc62840-6577-4d02-8bbf-b0894baeee4a",
   "metadata": {},
   "outputs": [],
   "source": []
  }
 ],
 "metadata": {
  "kernelspec": {
   "display_name": "Python 3 (ipykernel)",
   "language": "python",
   "name": "python3"
  },
  "language_info": {
   "codemirror_mode": {
    "name": "ipython",
    "version": 3
   },
   "file_extension": ".py",
   "mimetype": "text/x-python",
   "name": "python",
   "nbconvert_exporter": "python",
   "pygments_lexer": "ipython3",
   "version": "3.10.13"
  }
 },
 "nbformat": 4,
 "nbformat_minor": 5
}
