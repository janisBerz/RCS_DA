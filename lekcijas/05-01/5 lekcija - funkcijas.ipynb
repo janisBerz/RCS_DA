{
 "cells": [
  {
   "cell_type": "markdown",
   "metadata": {},
   "source": [
    "# Funkcijas"
   ]
  },
  {
   "cell_type": "code",
   "execution_count": 1,
   "metadata": {},
   "outputs": [],
   "source": [
    "def print_text():\n",
    "    print('Yooooo!')\n",
    "    \n",
    "    print_text()"
   ]
  },
  {
   "cell_type": "code",
   "execution_count": 6,
   "metadata": {},
   "outputs": [
    {
     "data": {
      "text/plain": [
       "30"
      ]
     },
     "execution_count": 6,
     "metadata": {},
     "output_type": "execute_result"
    }
   ],
   "source": [
    "def multiplay_numbers(n, n1):\n",
    "    return n * n1\n",
    "\n",
    "multiplay_numbers(5,6)"
   ]
  },
  {
   "cell_type": "code",
   "execution_count": 13,
   "metadata": {},
   "outputs": [
    {
     "name": "stdout",
     "output_type": "stream",
     "text": [
      "2 Juri!\n"
     ]
    }
   ],
   "source": [
    "def mana_funkcija(p1, p2, p3):\n",
    "    s = 2 * p1 + 3*p2 - 4*p3\n",
    "    return s\n",
    "\n",
    "mana_funkcija(1,2,4)\n",
    "\n",
    "mana_funkcija(p2 = 2, p1 = 3,p3 = 4)\n",
    "\n",
    "\n",
    "def greet(greeting='dsad', name='daddd'):\n",
    "    \"\"\"\n",
    "    Sī funkcija izprintē apsveikuma tekstu.\n",
    "\n",
    "    Parameters:\n",
    "    greeting (str): apsveikuma teksts.\n",
    "    name (str): persona, kuru sveic.\n",
    "\n",
    "    Returns:\n",
    "    None\n",
    "    \"\"\"\n",
    "    print(greeting, name)\n",
    "\n",
    "greet(2, 'Juri!')"
   ]
  },
  {
   "cell_type": "code",
   "execution_count": 30,
   "metadata": {},
   "outputs": [
    {
     "name": "stdout",
     "output_type": "stream",
     "text": [
      "i =  | j =  4\n",
      "i =  | j =  4\n",
      "i = ___|___j = \n"
     ]
    }
   ],
   "source": [
    "# Parametri ar nokluseto vertibu.\n",
    "\n",
    "i = 5\n",
    "j = 4\n",
    "\n",
    "print(\"i = \", \"|\", \"j = \", j)\n",
    "print(\"i = \", \"|\", \"j = \", j)\n",
    "print(\"i = \", \"|\", \"j = \", sep= \"___\")\n"
   ]
  },
  {
   "cell_type": "code",
   "execution_count": 32,
   "metadata": {},
   "outputs": [
    {
     "name": "stdout",
     "output_type": "stream",
     "text": [
      "i = <-x->5<-x->j = <-x->4\n"
     ]
    }
   ],
   "source": [
    "i = 5\n",
    "j= 4\n",
    "print(\"i = \", i, \"j = \", j, sep= \"<-x->\", end = \"\\n\")\n",
    "print()"
   ]
  },
  {
   "cell_type": "code",
   "execution_count": 33,
   "metadata": {},
   "outputs": [],
   "source": [
    "import pandas as pd\n",
    "import numpy as np"
   ]
  },
  {
   "cell_type": "code",
   "execution_count": 35,
   "metadata": {},
   "outputs": [
    {
     "ename": "TypeError",
     "evalue": "pus_pira() missing 1 required positional argument: 'n'",
     "output_type": "error",
     "traceback": [
      "\u001b[1;31m---------------------------------------------------------------------------\u001b[0m",
      "\u001b[1;31mTypeError\u001b[0m                                 Traceback (most recent call last)",
      "Cell \u001b[1;32mIn[35], line 13\u001b[0m\n\u001b[0;32m     10\u001b[0m             \u001b[38;5;28mprint\u001b[39m(\u001b[38;5;124m\"\u001b[39m\u001b[38;5;124m* \u001b[39m\u001b[38;5;124m\"\u001b[39m, end\u001b[38;5;241m=\u001b[39m\u001b[38;5;124m\"\u001b[39m\u001b[38;5;124m\"\u001b[39m)\n\u001b[0;32m     11\u001b[0m         \u001b[38;5;28mprint\u001b[39m(\u001b[38;5;124m\"\u001b[39m\u001b[38;5;130;01m\\r\u001b[39;00m\u001b[38;5;124m\"\u001b[39m)\n\u001b[1;32m---> 13\u001b[0m pus_pira()\n",
      "\u001b[1;31mTypeError\u001b[0m: pus_pira() missing 1 required positional argument: 'n'"
     ]
    }
   ],
   "source": [
    "# def pus_pira(n):\n",
    "#     for i in range(1,n +1):\n",
    "#         for j in range(1, i +1 ):\n",
    "#             print(\"* \", end=\"\")\n",
    "#         print(\"\\r\")\n",
    "\n",
    "def pus_pira(n):\n",
    "    for i in range(1,n +1):\n",
    "        for j in range(1, i +1 ):\n",
    "            print(\"* \", end=\"\")\n",
    "        print(\"\\r\")\n",
    "        \n",
    "pus_pira()"
   ]
  }
 ],
 "metadata": {
  "kernelspec": {
   "display_name": "RCS",
   "language": "python",
   "name": "python3"
  },
  "language_info": {
   "codemirror_mode": {
    "name": "ipython",
    "version": 3
   },
   "file_extension": ".py",
   "mimetype": "text/x-python",
   "name": "python",
   "nbconvert_exporter": "python",
   "pygments_lexer": "ipython3",
   "version": "3.11.7"
  }
 },
 "nbformat": 4,
 "nbformat_minor": 2
}
