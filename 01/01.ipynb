{
 "cells": [
  {
   "cell_type": "markdown",
   "id": "95350bef-0f7e-4645-a1a6-fbbef8d397f2",
   "metadata": {},
   "source": [
    "# Python Pamati\n",
    "## Lekcija 01\n"
   ]
  },
  {
   "cell_type": "code",
   "execution_count": 47,
   "id": "59330061-ce8f-4fad-aa9b-82f081bee662",
   "metadata": {},
   "outputs": [],
   "source": [
    "a = 7"
   ]
  },
  {
   "cell_type": "code",
   "execution_count": 48,
   "id": "3bab5f9e-c2d1-488a-9bd5-b8ebc0d462f9",
   "metadata": {},
   "outputs": [
    {
     "data": {
      "text/plain": [
       "int"
      ]
     },
     "execution_count": 48,
     "metadata": {},
     "output_type": "execute_result"
    }
   ],
   "source": [
    "type(a)"
   ]
  },
  {
   "cell_type": "code",
   "execution_count": 49,
   "id": "01188c90-e900-43b9-9b8b-58cb22a0048f",
   "metadata": {},
   "outputs": [],
   "source": [
    "a = 'teksts'"
   ]
  },
  {
   "cell_type": "code",
   "execution_count": 50,
   "id": "cd3a7c13-5455-43c4-9329-c0e46cdb4979",
   "metadata": {},
   "outputs": [
    {
     "data": {
      "text/plain": [
       "str"
      ]
     },
     "execution_count": 50,
     "metadata": {},
     "output_type": "execute_result"
    }
   ],
   "source": [
    "type(a)"
   ]
  },
  {
   "cell_type": "code",
   "execution_count": 51,
   "id": "39d16114-5f62-463c-990a-23374ac6dd02",
   "metadata": {},
   "outputs": [],
   "source": [
    "a = 7\n",
    "b = 7"
   ]
  },
  {
   "cell_type": "code",
   "execution_count": 52,
   "id": "d2ff3ca7-6732-4ada-bd7c-0b1567e3c8ec",
   "metadata": {},
   "outputs": [
    {
     "data": {
      "text/plain": [
       "(int, int)"
      ]
     },
     "execution_count": 52,
     "metadata": {},
     "output_type": "execute_result"
    }
   ],
   "source": [
    "type(a), type(b)"
   ]
  },
  {
   "cell_type": "code",
   "execution_count": 53,
   "id": "25125090-4a8a-4fd5-8467-21ea61ff284d",
   "metadata": {},
   "outputs": [
    {
     "name": "stdout",
     "output_type": "stream",
     "text": [
      "5 10\n"
     ]
    }
   ],
   "source": [
    "a=5\n",
    "b=10\n",
    "print(a,b)"
   ]
  },
  {
   "cell_type": "code",
   "execution_count": 54,
   "id": "1c6ff189-4ea2-4a2b-959d-25bc0254fccb",
   "metadata": {},
   "outputs": [],
   "source": [
    "a,b=b,a"
   ]
  },
  {
   "cell_type": "code",
   "execution_count": 55,
   "id": "14631d78-4f37-4e9a-939d-1aa42d094998",
   "metadata": {},
   "outputs": [
    {
     "name": "stdout",
     "output_type": "stream",
     "text": [
      "10 5\n"
     ]
    }
   ],
   "source": [
    "print(a,b)"
   ]
  }
 ],
 "metadata": {
  "kernelspec": {
   "display_name": "Python 3 (ipykernel)",
   "language": "python",
   "name": "python3"
  },
  "language_info": {
   "codemirror_mode": {
    "name": "ipython",
    "version": 3
   },
   "file_extension": ".py",
   "mimetype": "text/x-python",
   "name": "python",
   "nbconvert_exporter": "python",
   "pygments_lexer": "ipython3",
   "version": "3.10.13"
  }
 },
 "nbformat": 4,
 "nbformat_minor": 5
}
