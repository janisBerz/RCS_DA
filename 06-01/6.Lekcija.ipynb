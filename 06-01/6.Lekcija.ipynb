{
 "cells": [
  {
   "cell_type": "code",
   "execution_count": 137,
   "id": "3e18942e-8e58-4f3c-920b-3f772e04e27d",
   "metadata": {},
   "outputs": [
    {
     "name": "stdout",
     "output_type": "stream",
     "text": [
      "3.11.8 | packaged by Anaconda, Inc. | (main, Feb 26 2024, 21:34:05) [MSC v.1916 64 bit (AMD64)]\n"
     ]
    }
   ],
   "source": [
    "import random\n",
    "import sys\n",
    "from random import choice as ch"
   ]
  },
  {
   "cell_type": "code",
   "execution_count": 50,
   "id": "698f046f-a488-4d7a-9849-0c5763790d45",
   "metadata": {},
   "outputs": [
    {
     "name": "stdout",
     "output_type": "stream",
     "text": [
      "4\n",
      "56\n",
      "u\n",
      "False\n",
      "1.23\n",
      "34\n",
      "abv\n",
      "67\n",
      "34533\n",
      "4\n",
      "6\n",
      "7\n"
     ]
    }
   ],
   "source": [
    "l5 = [4,56,\"u\",False,1.23,34,\"abv\",67,34533,4,6,7]\n",
    "\n",
    "for el in l5:\n",
    "    print(el, sep=\"\\n\",end=\"\\n\")"
   ]
  },
  {
   "cell_type": "code",
   "execution_count": 51,
   "id": "93adbdec-819a-4c37-99c6-528896b1c6fd",
   "metadata": {},
   "outputs": [],
   "source": [
    "# *args\n",
    "# Izmanto gadījumos, kad parametru skaits nav iepriekš zināms"
   ]
  },
  {
   "cell_type": "code",
   "execution_count": 55,
   "id": "c5523664-7b5d-4d28-b409-890928e6e59b",
   "metadata": {},
   "outputs": [],
   "source": [
    "def sum_of_squares(*args): # * ir svarīga kas definē ka pie parameriem būs args. Bet pati burtu virkne pēc -> * var būt jebkāda\n",
    "    result = 0\n",
    "    for n in args:\n",
    "        result = result + n**2\n",
    "    return result"
   ]
  },
  {
   "cell_type": "code",
   "execution_count": 56,
   "id": "415f25b7-58cf-4c41-8702-99df7e6e9f15",
   "metadata": {},
   "outputs": [
    {
     "data": {
      "text/plain": [
       "29"
      ]
     },
     "execution_count": 56,
     "metadata": {},
     "output_type": "execute_result"
    }
   ],
   "source": [
    "sum_of_squares(2,3,4)"
   ]
  },
  {
   "cell_type": "code",
   "execution_count": 57,
   "id": "aaa45a76-8ba4-4855-804c-2d70405c70bd",
   "metadata": {},
   "outputs": [
    {
     "data": {
      "text/plain": [
       "371"
      ]
     },
     "execution_count": 57,
     "metadata": {},
     "output_type": "execute_result"
    }
   ],
   "source": [
    "sum_of_squares(3,5,6,7,2,3,4,5,6,7,7,8)"
   ]
  },
  {
   "cell_type": "code",
   "execution_count": 58,
   "id": "785aed12-234e-43bf-ac8a-f3ed3bff2938",
   "metadata": {},
   "outputs": [],
   "source": [
    "# Alternatīvs izpildījums bez *args\n",
    "\n",
    "my_nums = [1,2,3]\n",
    "\n",
    "def alt_sum_of_squares(num_list):\n",
    "    result = 0\n",
    "    for el in num_list:\n",
    "        result = result + el**2\n",
    "    return result"
   ]
  },
  {
   "cell_type": "code",
   "execution_count": 59,
   "id": "f24f1cba-b852-4aee-bbc5-b1fdd5b8f2e5",
   "metadata": {},
   "outputs": [
    {
     "data": {
      "text/plain": [
       "14"
      ]
     },
     "execution_count": 59,
     "metadata": {},
     "output_type": "execute_result"
    }
   ],
   "source": [
    "alt_sum_of_squares(my_nums)"
   ]
  },
  {
   "cell_type": "code",
   "execution_count": 60,
   "id": "43633da7-9cf8-4c3c-88b4-284057eb67e8",
   "metadata": {},
   "outputs": [
    {
     "data": {
      "text/plain": [
       "13036"
      ]
     },
     "execution_count": 60,
     "metadata": {},
     "output_type": "execute_result"
    }
   ],
   "source": [
    "alt_sum_of_squares([2,3,54,56,2,3,4,7,83,2])"
   ]
  },
  {
   "cell_type": "code",
   "execution_count": 61,
   "id": "ff8d891e-4e32-4f1c-acaf-789888ac2bcc",
   "metadata": {},
   "outputs": [],
   "source": [
    "# Parametru secība(atkarība no tā veida)\n",
    "# 1. standarta parametri, 2. *args 3. parametri ar noklusētajām vērtībām, un/vai **kwargs"
   ]
  },
  {
   "cell_type": "code",
   "execution_count": 62,
   "id": "ff636950-36da-4c44-b2d3-86ef923d6095",
   "metadata": {},
   "outputs": [
    {
     "data": {
      "text/plain": [
       "'veryveryvery'"
      ]
     },
     "execution_count": 62,
     "metadata": {},
     "output_type": "execute_result"
    }
   ],
   "source": [
    "'very' *3"
   ]
  },
  {
   "cell_type": "code",
   "execution_count": 63,
   "id": "036c4705-bfef-44cb-987f-9a99d1fbe8fa",
   "metadata": {},
   "outputs": [
    {
     "data": {
      "text/plain": [
       "'veryveryvery'"
      ]
     },
     "execution_count": 63,
     "metadata": {},
     "output_type": "execute_result"
    }
   ],
   "source": [
    "'very' +  'very' + 'very'"
   ]
  },
  {
   "cell_type": "code",
   "execution_count": 64,
   "id": "4c0ff5d2-a7f0-4a48-8ac2-2f816f8b9325",
   "metadata": {},
   "outputs": [
    {
     "data": {
      "text/plain": [
       "'a7'"
      ]
     },
     "execution_count": 64,
     "metadata": {},
     "output_type": "execute_result"
    }
   ],
   "source": [
    "'a' + '7'"
   ]
  },
  {
   "cell_type": "code",
   "execution_count": 65,
   "id": "e9303ef6-e33d-4e41-bd75-48f27bea32a8",
   "metadata": {},
   "outputs": [
    {
     "data": {
      "text/plain": [
       "['a', '7', 'a', '7', 'a', '7']"
      ]
     },
     "execution_count": 65,
     "metadata": {},
     "output_type": "execute_result"
    }
   ],
   "source": [
    "['a','7'] *3"
   ]
  },
  {
   "cell_type": "code",
   "execution_count": 71,
   "id": "b370866a-d679-4bd0-879a-c4a64d706776",
   "metadata": {},
   "outputs": [],
   "source": [
    "def print_this(n,*args,sentiment=\"positive\"):\n",
    "    if sentiment == \"positive\":\n",
    "        my_str = \"I like \" + \", \".join(args) + \" very\" *n + \" much\"\n",
    "    else:\n",
    "        my_str = \"I don't like \" + \", \".join(args) + \" very\" *n + \" much\"\n",
    "    print(my_str)"
   ]
  },
  {
   "cell_type": "code",
   "execution_count": 67,
   "id": "0eca72ea-ba6f-4afc-b9b2-df6a19161e4b",
   "metadata": {},
   "outputs": [
    {
     "name": "stdout",
     "output_type": "stream",
     "text": [
      "I like bananas, mango very very much\n"
     ]
    }
   ],
   "source": [
    "print_this(2,\"bananas\",\"mango\")"
   ]
  },
  {
   "cell_type": "code",
   "execution_count": 72,
   "id": "276eb894-c86e-40c4-b1a4-5968e712c317",
   "metadata": {},
   "outputs": [
    {
     "name": "stdout",
     "output_type": "stream",
     "text": [
      "I don't like bananas, mango very very very very very much\n"
     ]
    }
   ],
   "source": [
    "print_this(5,\"bananas\",\"mango\",sentiment=\"negative\")"
   ]
  },
  {
   "cell_type": "code",
   "execution_count": 73,
   "id": "398490c1-a615-46a6-bbca-c2f70e1dfc7e",
   "metadata": {},
   "outputs": [],
   "source": [
    "# mainīgo darbības ietvari, redzesloks\n",
    "# Funckijas ietvaros definēts mainīgais ir redzams tikai pašā funkcijā-> lokālais mainīgais(local variable)"
   ]
  },
  {
   "cell_type": "code",
   "execution_count": 74,
   "id": "ccb303bd-3fa8-493b-83bd-a931529cdc82",
   "metadata": {},
   "outputs": [
    {
     "name": "stdout",
     "output_type": "stream",
     "text": [
      "1st 1\n",
      "2nd ()\n"
     ]
    }
   ],
   "source": [
    "m = ()\n",
    "\n",
    "def func1():\n",
    "    m = 1\n",
    "    print(\"1st\", m)\n",
    "func1()\n",
    "print(\"2nd\", m)"
   ]
  },
  {
   "cell_type": "code",
   "execution_count": 75,
   "id": "e4ecc9f2-2dcc-40bf-b1de-64c29a65d7dd",
   "metadata": {},
   "outputs": [
    {
     "ename": "UnboundLocalError",
     "evalue": "cannot access local variable 'm2' where it is not associated with a value",
     "output_type": "error",
     "traceback": [
      "\u001b[1;31m---------------------------------------------------------------------------\u001b[0m",
      "\u001b[1;31mUnboundLocalError\u001b[0m                         Traceback (most recent call last)",
      "Cell \u001b[1;32mIn[75], line 7\u001b[0m\n\u001b[0;32m      4\u001b[0m     m2 \u001b[38;5;241m=\u001b[39m m2 \u001b[38;5;241m+\u001b[39m \u001b[38;5;241m3\u001b[39m\n\u001b[0;32m      5\u001b[0m     \u001b[38;5;28mprint\u001b[39m(m2)\n\u001b[1;32m----> 7\u001b[0m func2()\n\u001b[0;32m      8\u001b[0m m2\n",
      "Cell \u001b[1;32mIn[75], line 4\u001b[0m, in \u001b[0;36mfunc2\u001b[1;34m()\u001b[0m\n\u001b[0;32m      3\u001b[0m \u001b[38;5;28;01mdef\u001b[39;00m \u001b[38;5;21mfunc2\u001b[39m():\n\u001b[1;32m----> 4\u001b[0m     m2 \u001b[38;5;241m=\u001b[39m m2 \u001b[38;5;241m+\u001b[39m \u001b[38;5;241m3\u001b[39m\n\u001b[0;32m      5\u001b[0m     \u001b[38;5;28mprint\u001b[39m(m2)\n",
      "\u001b[1;31mUnboundLocalError\u001b[0m: cannot access local variable 'm2' where it is not associated with a value"
     ]
    }
   ],
   "source": [
    "m2 = 3\n",
    "\n",
    "def func2():\n",
    "    m2 = m2 + 3 # būs konflikts jo lokalā vērtība konfliktē ar globālo\n",
    "    print(m2)\n",
    "\n",
    "func2()\n",
    "m2"
   ]
  },
  {
   "cell_type": "code",
   "execution_count": 76,
   "id": "8ace0453-df4e-4d08-92df-271cd64b10fd",
   "metadata": {},
   "outputs": [
    {
     "name": "stdout",
     "output_type": "stream",
     "text": [
      "Funkcijas mainīgais m:  1\n",
      "Ārpus funkcijas mainīgais m:  0\n"
     ]
    }
   ],
   "source": [
    "m3 =  0\n",
    "\n",
    "def func3():\n",
    "    m3 = 1\n",
    "    print(\"Funkcijas mainīgais m: \", m3)\n",
    "\n",
    "func3()\n",
    "print(\"Ārpus funkcijas mainīgais m: \", m3)"
   ]
  },
  {
   "cell_type": "code",
   "execution_count": 77,
   "id": "6bfc5569-04ee-49d7-8d96-a3fa7e424793",
   "metadata": {},
   "outputs": [],
   "source": [
    "# Ja funkcijas ietvaros gribam mainīt globālo mainīgo, jāpielieto atslēgvārds \"global\""
   ]
  },
  {
   "cell_type": "code",
   "execution_count": 78,
   "id": "b7657588-949f-4e95-856a-5d33487e5de6",
   "metadata": {},
   "outputs": [],
   "source": [
    "# Kā veikt parametra (args) validāciju, tipa pārbaudi pirms funkcija tiek izsaukta?\n",
    "# pēc tipa pārbaudīt\n",
    "# for el in args:\n",
    "#    if type(el) == \"str\""
   ]
  },
  {
   "cell_type": "code",
   "execution_count": 79,
   "id": "dbe8290f-a324-48f6-9cf4-73e16a429607",
   "metadata": {},
   "outputs": [
    {
     "name": "stdout",
     "output_type": "stream",
     "text": [
      "0\n",
      "1\n"
     ]
    }
   ],
   "source": [
    "glob_var = 0\n",
    "\n",
    "def func4():\n",
    "    global glob_var\n",
    "    glob_var = glob_var + 1\n",
    "\n",
    "print(glob_var)\n",
    "func4()\n",
    "print(glob_var)"
   ]
  },
  {
   "cell_type": "code",
   "execution_count": 81,
   "id": "4b769188-c856-4777-a362-50cdc7dbe97f",
   "metadata": {},
   "outputs": [],
   "source": [
    "M = 0\n",
    "\n",
    "def func5():\n",
    "    global M\n",
    "    M = 1\n",
    "    # M_new = M_prev + 1\n",
    "    # M <- M+1\n",
    "    M= M + 1\n"
   ]
  },
  {
   "cell_type": "code",
   "execution_count": 82,
   "id": "81b37eb1-0252-41b8-9c38-3adb8b6e3724",
   "metadata": {},
   "outputs": [
    {
     "name": "stdout",
     "output_type": "stream",
     "text": [
      "Orģinālais M:  0\n",
      "Pēc funkcijas izpildes M:  2\n"
     ]
    }
   ],
   "source": [
    "print(\"Orģinālais M: \", M)\n",
    "func5()\n",
    "print(\"Pēc funkcijas izpildes M: \", M)"
   ]
  },
  {
   "cell_type": "code",
   "execution_count": 83,
   "id": "79f6d819-b48c-4a20-8d6e-f50c3d39c470",
   "metadata": {},
   "outputs": [
    {
     "name": "stdout",
     "output_type": "stream",
     "text": [
      "new list  [1]\n",
      "new list  [1, 16]\n",
      "new list  [1, 16, 4]\n",
      "new list  [1, 16, 4, 49]\n",
      "new list  [1, 16, 4, 49, 16]\n",
      "new list  [1, 16, 4, 49, 16, 36]\n"
     ]
    },
    {
     "data": {
      "text/plain": [
       "[1, 16, 4, 49, 16, 36]"
      ]
     },
     "execution_count": 83,
     "metadata": {},
     "output_type": "execute_result"
    }
   ],
   "source": [
    "new_list = list()\n",
    "old_list = [1,4,2,7,4,6]\n",
    "\n",
    "for el in old_list:\n",
    "    new = el**2\n",
    "    new_list = new_list + [new]\n",
    "    print(\"new list \", new_list)\n",
    "\n",
    "new_list"
   ]
  },
  {
   "cell_type": "markdown",
   "id": "585f9fb8-0b3a-41ee-86d6-aa0891d3587c",
   "metadata": {},
   "source": [
    "#### Lambda funckijas"
   ]
  },
  {
   "cell_type": "code",
   "execution_count": 84,
   "id": "91cc79ab-7dae-4ce6-b850-d0f958f2c267",
   "metadata": {},
   "outputs": [],
   "source": [
    "# lambda funkcija ir beznosaukuma jeb anonīma funkcija ar 1 vai vairākiem argumentiem un vienu izteiksmi. Tā nevar saturēt koda bloku.\n",
    "# Anonīmā lambda funkcija neaizņem vietu atmiņā!!\n",
    "# Sintakse lambda par1,par2..."
   ]
  },
  {
   "cell_type": "markdown",
   "id": "2b590bfe-9d51-4de3-ae66-6f462d98e831",
   "metadata": {},
   "source": [
    "#### map, reduce,filter,zip"
   ]
  },
  {
   "cell_type": "code",
   "execution_count": 85,
   "id": "0c3c4a9f-e572-4270-a80d-43feaf12264a",
   "metadata": {},
   "outputs": [],
   "source": [
    "# map funkciju pielieto lai noteiktu funkciju katram virknes elementam. Sintakse map(funkcija,virkne(-es))"
   ]
  },
  {
   "cell_type": "code",
   "execution_count": 86,
   "id": "e679ce02-a546-4e74-8aad-0096ad04c952",
   "metadata": {},
   "outputs": [
    {
     "name": "stdout",
     "output_type": "stream",
     "text": [
      "map(func, *iterables) --> map object\n",
      "\n",
      "Make an iterator that computes the function using arguments from\n",
      "each of the iterables.  Stops when the shortest iterable is exhausted.\n"
     ]
    }
   ],
   "source": [
    "print(map.__doc__)"
   ]
  },
  {
   "cell_type": "code",
   "execution_count": 87,
   "id": "3f780e86-686a-48f9-9426-6d403ff5f9d4",
   "metadata": {},
   "outputs": [
    {
     "name": "stdout",
     "output_type": "stream",
     "text": [
      "[1]\n",
      "[1, 4]\n",
      "[1, 4, 9]\n",
      "[1, 4, 9, 16]\n",
      "[1, 4, 9, 16, 25]\n",
      "[1, 4, 9, 16, 25, 36]\n",
      "[1, 4, 9, 16, 25, 36, 49]\n",
      "-----------\n",
      "[1, 4, 9, 16, 25, 36, 49]\n"
     ]
    }
   ],
   "source": [
    "# Klasisko pierakstu\n",
    "my_list = [1,2,3,4,5,6,7]\n",
    "new_list = []\n",
    "\n",
    "for x in my_list:\n",
    "    new_list.append(x**2)\n",
    "    print(new_list)\n",
    "\n",
    "print(\"-----------\")\n",
    "print(new_list)"
   ]
  },
  {
   "cell_type": "code",
   "execution_count": 88,
   "id": "7fdc26b6-6bd6-45ab-a0d2-33efe42d0861",
   "metadata": {},
   "outputs": [
    {
     "data": {
      "text/plain": [
       "<map at 0x29e24a4ac50>"
      ]
     },
     "execution_count": 88,
     "metadata": {},
     "output_type": "execute_result"
    }
   ],
   "source": [
    "# izmantosim map funkciju\n",
    "def squared(x):\n",
    "    return x ** 2\n",
    "\n",
    "map(squared,my_list)"
   ]
  },
  {
   "cell_type": "code",
   "execution_count": 89,
   "id": "a5f783c5-83e8-42d1-bf5a-fff7b4a9a66f",
   "metadata": {},
   "outputs": [
    {
     "data": {
      "text/plain": [
       "[1, 4, 9, 16, 25, 36, 49]"
      ]
     },
     "execution_count": 89,
     "metadata": {},
     "output_type": "execute_result"
    }
   ],
   "source": [
    "list(map(squared,my_list))"
   ]
  },
  {
   "cell_type": "code",
   "execution_count": 90,
   "id": "26eba0ea-cb0e-4e77-8caa-1792035e96c2",
   "metadata": {},
   "outputs": [
    {
     "data": {
      "text/plain": [
       "[1, 2, 3, 4, 5, 6, 7]"
      ]
     },
     "execution_count": 90,
     "metadata": {},
     "output_type": "execute_result"
    }
   ],
   "source": [
    "my_list"
   ]
  },
  {
   "cell_type": "code",
   "execution_count": 91,
   "id": "9f027301-cfd3-4a10-9387-6c09e85a4bbf",
   "metadata": {},
   "outputs": [
    {
     "data": {
      "text/plain": [
       "[1, 4, 9, 16]"
      ]
     },
     "execution_count": 91,
     "metadata": {},
     "output_type": "execute_result"
    }
   ],
   "source": [
    "list(map(lambda x: x **2,range(1,5)))"
   ]
  },
  {
   "cell_type": "code",
   "execution_count": 92,
   "id": "21c62095-c4ca-47c3-8618-04c26085e4bc",
   "metadata": {},
   "outputs": [
    {
     "data": {
      "text/plain": [
       "[1, 2, 4, 8, 16, 32, 64, 128, 256]"
      ]
     },
     "execution_count": 92,
     "metadata": {},
     "output_type": "execute_result"
    }
   ],
   "source": [
    "list(map(pow,[2,2,2,2,2,2,2,2,2],[0,1,2,3,4,5,6,7,8,9]))"
   ]
  },
  {
   "cell_type": "code",
   "execution_count": 95,
   "id": "5d0dfae3-5644-45c9-9f20-8cbc825b3a12",
   "metadata": {},
   "outputs": [
    {
     "data": {
      "text/plain": [
       "[1, 2, 4, 8, 16, 32, 64, 128, 256, 512]"
      ]
     },
     "execution_count": 95,
     "metadata": {},
     "output_type": "execute_result"
    }
   ],
   "source": [
    "# Alternatīvu pierakstu/īsāku\n",
    "list(map(pow, [2]* len(range(10)), range(10)))"
   ]
  },
  {
   "cell_type": "code",
   "execution_count": 96,
   "id": "d6e82d23-ff72-4dd7-a81d-929bbdc0cc59",
   "metadata": {},
   "outputs": [
    {
     "data": {
      "text/plain": [
       "[1, 3, 9, 27, 81, 243, 729, 2187, 6561, 19683, 59049]"
      ]
     },
     "execution_count": 96,
     "metadata": {},
     "output_type": "execute_result"
    }
   ],
   "source": [
    "def func6(x,y):\n",
    "    return list(map(pow,[x]* len(range(y+1)),range(y+1)))\n",
    "\n",
    "func6(3,10)"
   ]
  },
  {
   "cell_type": "code",
   "execution_count": 97,
   "id": "aa8b44ba-8ff8-4b77-b83a-29db64605d45",
   "metadata": {},
   "outputs": [
    {
     "data": {
      "text/plain": [
       "['Dita', 'Māris', 'Eva', 'Vlads']"
      ]
     },
     "execution_count": 97,
     "metadata": {},
     "output_type": "execute_result"
    }
   ],
   "source": [
    "# Piemērs ar map un standarta string metodi\n",
    "my_string = [\"dita\",\"māris\",\"eva\",\"vlads\"]\n",
    "list(map(str.capitalize,my_string))"
   ]
  },
  {
   "cell_type": "code",
   "execution_count": 98,
   "id": "6eaf7d0b-c28a-43ca-9170-7c086049266e",
   "metadata": {},
   "outputs": [],
   "source": [
    "# Izmantojot map funckiju \n",
    "def squared(x):\n",
    "    return x ** 2"
   ]
  },
  {
   "cell_type": "code",
   "execution_count": 99,
   "id": "3251888e-5879-4727-95be-da6cd49d6a4a",
   "metadata": {},
   "outputs": [
    {
     "data": {
      "text/plain": [
       "[4, 9, 16, 25]"
      ]
     },
     "execution_count": 99,
     "metadata": {},
     "output_type": "execute_result"
    }
   ],
   "source": [
    "list(map(squared,my_list[1:4+1]))"
   ]
  },
  {
   "cell_type": "code",
   "execution_count": 100,
   "id": "0bedaa2f-35e1-408b-8c57-37dda47c869a",
   "metadata": {},
   "outputs": [
    {
     "data": {
      "text/plain": [
       "[1, 4, 9, 16, 25]"
      ]
     },
     "execution_count": 100,
     "metadata": {},
     "output_type": "execute_result"
    }
   ],
   "source": [
    "L = [1,2,3,4,5]\n",
    "\n",
    "new_list = [el*el for el in L]\n",
    "new_list"
   ]
  },
  {
   "cell_type": "code",
   "execution_count": 103,
   "id": "4e368610-3668-4547-9176-0c5eb8018904",
   "metadata": {},
   "outputs": [
    {
     "name": "stdout",
     "output_type": "stream",
     "text": [
      "[1, 4, 9, 16, 25]\n"
     ]
    }
   ],
   "source": [
    "L = [1,2,3,4,5]\n",
    "new_list = [] # list()\n",
    "\n",
    "for el in L:\n",
    "    new_list.append(el**2)\n",
    "\n",
    "print(new_list)"
   ]
  },
  {
   "cell_type": "code",
   "execution_count": 104,
   "id": "a0534f51-098f-4aa1-8980-8a52e35bc2f7",
   "metadata": {},
   "outputs": [],
   "source": [
    "# enumerate"
   ]
  },
  {
   "cell_type": "code",
   "execution_count": 114,
   "id": "c506b870-8e75-4fc1-a130-f595d6e7fcc2",
   "metadata": {},
   "outputs": [
    {
     "data": {
      "text/plain": [
       "[(0, 'piens'), (1, 'sviests'), (2, 'olas'), (3, 'lasis')]"
      ]
     },
     "execution_count": 114,
     "metadata": {},
     "output_type": "execute_result"
    }
   ],
   "source": [
    "produkti = [\"piens\",\"sviests\",\"olas\",\"lasis\"]\n",
    "list(enumerate(produkti))"
   ]
  },
  {
   "cell_type": "code",
   "execution_count": 115,
   "id": "cee793f6-80ac-486d-badd-579b8771cc8b",
   "metadata": {},
   "outputs": [
    {
     "data": {
      "text/plain": [
       "[(0, 'piens'), (1, 'sviests'), (2, 'olas'), (3, 'lasis')]"
      ]
     },
     "execution_count": 115,
     "metadata": {},
     "output_type": "execute_result"
    }
   ],
   "source": [
    "# zip\n",
    "produkti = [\"piens\",\"sviests\",\"olas\",\"lasis\"]\n",
    "sk = [0,1,2,3]\n",
    "list(zip(sk,produkti))"
   ]
  },
  {
   "cell_type": "code",
   "execution_count": 116,
   "id": "3a32c8aa-0bfa-4238-8056-aff856fec6e4",
   "metadata": {},
   "outputs": [
    {
     "name": "stdout",
     "output_type": "stream",
     "text": [
      "x 0 y piens\n",
      "x 1 y sviests\n",
      "x 2 y olas\n",
      "x 3 y lasis\n"
     ]
    }
   ],
   "source": [
    "my_list = [(0, 'piens'), (1, 'sviests'), (2, 'olas'), (3, 'lasis')]\n",
    "for x,y in my_list:\n",
    "    print(\"x\",x,\"y\",y)"
   ]
  },
  {
   "cell_type": "code",
   "execution_count": 119,
   "id": "145c6fef-6372-4da4-8c6c-91dfbf077f58",
   "metadata": {},
   "outputs": [
    {
     "data": {
      "text/plain": [
       "[(0, (5, 'piens')),\n",
       " (1, (1, 'sviests')),\n",
       " (2, ('a', 'olas')),\n",
       " (3, (False, 'lasis'))]"
      ]
     },
     "execution_count": 119,
     "metadata": {},
     "output_type": "execute_result"
    }
   ],
   "source": [
    "produkti = [\"piens\",\"sviests\",\"olas\",\"lasis\"]\n",
    "num = [5,1,\"a\",False]\n",
    "list(enumerate(zip(num,produkti)))"
   ]
  },
  {
   "cell_type": "code",
   "execution_count": 118,
   "id": "b35c048e-a449-4129-9424-f0522ad14621",
   "metadata": {},
   "outputs": [
    {
     "data": {
      "text/plain": [
       "[(1, 4, 7), (2, 5, 8), (3, 6, 9)]"
      ]
     },
     "execution_count": 118,
     "metadata": {},
     "output_type": "execute_result"
    }
   ],
   "source": [
    "list1 = [1,2,3]\n",
    "list2 = [4,5,6]\n",
    "list3 = [7,8,9]\n",
    "my_zip = list(zip(list1,list2,list3))\n",
    "my_zip"
   ]
  },
  {
   "cell_type": "code",
   "execution_count": 120,
   "id": "297e0aac-37ca-4545-b9d3-df18af24cfee",
   "metadata": {},
   "outputs": [
    {
     "name": "stdout",
     "output_type": "stream",
     "text": [
      "1 4 7 To summa =  1 4 7\n",
      "2 5 8 To summa =  2 5 8\n",
      "3 6 9 To summa =  3 6 9\n"
     ]
    }
   ],
   "source": [
    "for i,kg,kalis in my_zip:\n",
    "    print(i,kg,kalis, \"To summa = \", i,kg,kalis)"
   ]
  },
  {
   "cell_type": "code",
   "execution_count": 121,
   "id": "83cea511-ed1d-49f0-a8c1-81d45e6f072b",
   "metadata": {},
   "outputs": [
    {
     "name": "stdout",
     "output_type": "stream",
     "text": [
      "1 and 4 and 7\n",
      "1 and 4 and 8\n",
      "1 and 4 and 9\n",
      "1 and 5 and 7\n",
      "1 and 5 and 8\n",
      "1 and 5 and 9\n",
      "1 and 6 and 7\n",
      "1 and 6 and 8\n",
      "1 and 6 and 9\n",
      "2 and 4 and 7\n",
      "2 and 4 and 8\n",
      "2 and 4 and 9\n",
      "2 and 5 and 7\n",
      "2 and 5 and 8\n",
      "2 and 5 and 9\n",
      "2 and 6 and 7\n",
      "2 and 6 and 8\n",
      "2 and 6 and 9\n",
      "3 and 4 and 7\n",
      "3 and 4 and 8\n",
      "3 and 4 and 9\n",
      "3 and 5 and 7\n",
      "3 and 5 and 8\n",
      "3 and 5 and 9\n",
      "3 and 6 and 7\n",
      "3 and 6 and 8\n",
      "3 and 6 and 9\n"
     ]
    }
   ],
   "source": [
    "# 3D\n",
    "\n",
    "list1 = [1,2,3]\n",
    "list2 = [4,5,6]\n",
    "list3 = [7,8,9]\n",
    "\n",
    "\n",
    "for i in list1:\n",
    "    for j in list2:\n",
    "        for k in list3:\n",
    "            print(i, \"and\", j , \"and\", k)"
   ]
  },
  {
   "cell_type": "code",
   "execution_count": 122,
   "id": "2f43759a-fbe7-47e5-997d-a4997c35514b",
   "metadata": {},
   "outputs": [
    {
     "data": {
      "text/plain": [
       "[('a', 1), ('b', 2), ('c', 3)]"
      ]
     },
     "execution_count": 122,
     "metadata": {},
     "output_type": "execute_result"
    }
   ],
   "source": [
    "sar1 = [1,2,3,4,5]\n",
    "sar2 = [\"a\",\"b\",\"c\"]\n",
    "list(zip(sar2,sar1))"
   ]
  },
  {
   "cell_type": "code",
   "execution_count": 126,
   "id": "f28d2b03-8021-47ff-8e19-0ac3af8897e4",
   "metadata": {},
   "outputs": [
    {
     "data": {
      "text/plain": [
       "{'a': 1, 'b': 2, 'c': 3}"
      ]
     },
     "execution_count": 126,
     "metadata": {},
     "output_type": "execute_result"
    }
   ],
   "source": [
    "# Iterējam vienlaicīgi 2 sarakstus un veidojam vārdnīcu, kamēr beidzas īsakais saraksts\n",
    "sar1 = [1,2,3,4,5]\n",
    "sar2 = [\"a\", \"b\", \"c\"]\n",
    "\n",
    "{k: v for k, v in zip(sar2, sar1)} # list comprehansion"
   ]
  },
  {
   "cell_type": "code",
   "execution_count": 127,
   "id": "f269ba2f-d4b5-42cc-8d3a-c6c7b6dfb080",
   "metadata": {},
   "outputs": [
    {
     "data": {
      "text/plain": [
       "{'a': 1, 'b': 2, 'c': 3}"
      ]
     },
     "execution_count": 127,
     "metadata": {},
     "output_type": "execute_result"
    }
   ],
   "source": [
    "# vai vēl vienkāršāk\n",
    "dict(zip(sar2,sar1))"
   ]
  },
  {
   "cell_type": "code",
   "execution_count": 135,
   "id": "b13003ed-71ed-481a-8269-9015f100a615",
   "metadata": {},
   "outputs": [
    {
     "ename": "ModuleNotFoundError",
     "evalue": "No module named 'fucker'",
     "output_type": "error",
     "traceback": [
      "\u001b[1;31m---------------------------------------------------------------------------\u001b[0m",
      "\u001b[1;31mModuleNotFoundError\u001b[0m                       Traceback (most recent call last)",
      "Cell \u001b[1;32mIn[135], line 4\u001b[0m\n\u001b[0;32m      1\u001b[0m \u001b[38;5;66;03m# Python moduļiem, bibliotēkām.\u001b[39;00m\n\u001b[0;32m      2\u001b[0m \n\u001b[0;32m      3\u001b[0m \u001b[38;5;66;03m# from random import choice\u001b[39;00m\n\u001b[1;32m----> 4\u001b[0m \u001b[38;5;28;01mimport\u001b[39;00m \u001b[38;5;21;01mfucker\u001b[39;00m\n",
      "\u001b[1;31mModuleNotFoundError\u001b[0m: No module named 'fucker'"
     ]
    }
   ],
   "source": [
    "# Python moduļiem, bibliotēkām.\n",
    "\n",
    "# from random import choice"
   ]
  },
  {
   "cell_type": "code",
   "execution_count": 139,
   "id": "a9b9900f-6f63-4e8e-912e-35a14c7b7d8a",
   "metadata": {},
   "outputs": [
    {
     "name": "stdout",
     "output_type": "stream",
     "text": [
      "Jāatmin vārds: 'hipototams'.\n"
     ]
    }
   ],
   "source": [
    "word_list = [\"kosmonauts\",\"sintezators\",\"hipototams\",\"aprikoze\",\"abols\"]\n",
    "word = ch(word_list)\n",
    "print(f\"Jāatmin vārds: '{word}'.\")"
   ]
  },
  {
   "cell_type": "code",
   "execution_count": 140,
   "id": "32d19211-0bed-4fdd-bf0c-f8c9e519af18",
   "metadata": {},
   "outputs": [],
   "source": [
    "## Class ir instrukcija kā izskatīsies objekts.\n",
    "class MyClass:\n",
    "    a = 9\n",
    "    "
   ]
  },
  {
   "cell_type": "code",
   "execution_count": 141,
   "id": "da539673-01ce-4b67-9210-62a210af4f0e",
   "metadata": {},
   "outputs": [
    {
     "name": "stdout",
     "output_type": "stream",
     "text": [
      "9\n"
     ]
    }
   ],
   "source": [
    "c1 = MyClass()# taisam objektu no instrukcijas MyClass, konstruktors uztaisa objektu c1\n",
    "print(c1.a) #aplūkoju objekta c1 atribūta a vērtību"
   ]
  },
  {
   "cell_type": "code",
   "execution_count": 143,
   "id": "cfb769dc-54d5-432f-93be-3edd95d95c1c",
   "metadata": {},
   "outputs": [
    {
     "name": "stdout",
     "output_type": "stream",
     "text": [
      "Jānis\n",
      "40\n"
     ]
    }
   ],
   "source": [
    "class Persona: # class ir instrukcija objektam\n",
    "    def __init__(self,name,age): # self attiecināms uz taisāmo objektu\n",
    "        self.name = name\n",
    "        self.age = age\n",
    "#\n",
    "#      konstruktors \n",
    "#         |\n",
    "#        |\n",
    "#       |\n",
    "#      \\/\n",
    "p1 = Persona(\"Jānis\",40)\n",
    "print(p1.name)\n",
    "print(p1.age)"
   ]
  },
  {
   "cell_type": "code",
   "execution_count": null,
   "id": "5114e6d2-9dfe-4cc9-ac7d-9c9777099214",
   "metadata": {},
   "outputs": [],
   "source": []
  }
 ],
 "metadata": {
  "kernelspec": {
   "display_name": "Python 3 (ipykernel)",
   "language": "python",
   "name": "python3"
  },
  "language_info": {
   "codemirror_mode": {
    "name": "ipython",
    "version": 3
   },
   "file_extension": ".py",
   "mimetype": "text/x-python",
   "name": "python",
   "nbconvert_exporter": "python",
   "pygments_lexer": "ipython3",
   "version": "3.11.8"
  }
 },
 "nbformat": 4,
 "nbformat_minor": 5
}
