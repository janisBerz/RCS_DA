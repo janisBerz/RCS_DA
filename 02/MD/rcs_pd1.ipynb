{
 "cells": [
  {
   "cell_type": "markdown",
   "id": "7dfcecff",
   "metadata": {},
   "source": [
    "# Patstāvīgais darbs nr.1\n"
   ]
  },
  {
   "cell_type": "markdown",
   "id": "9c5c28c3",
   "metadata": {},
   "source": [
    "Noskaidrot Python versija, kura pašlaik tiek lietota"
   ]
  },
  {
   "cell_type": "code",
   "execution_count": null,
   "id": "c70e72ed",
   "metadata": {},
   "outputs": [],
   "source": []
  },
  {
   "cell_type": "markdown",
   "id": "33b6b08a",
   "metadata": {},
   "source": [
    "Piešķir mainīgajam x vērtību \"1252\" (kā String), pārkonvertē uz int, izdrukā to uz ekrāna (lietojot print)."
   ]
  },
  {
   "cell_type": "code",
   "execution_count": null,
   "id": "d7070115",
   "metadata": {},
   "outputs": [],
   "source": []
  },
  {
   "cell_type": "markdown",
   "id": "d23074e2",
   "metadata": {},
   "source": [
    "Cik pilnas reizes 25 ieiet x piešķirtajā vērtībā?"
   ]
  },
  {
   "cell_type": "code",
   "execution_count": null,
   "id": "c87703b2",
   "metadata": {},
   "outputs": [],
   "source": []
  },
  {
   "cell_type": "markdown",
   "id": "ca1d652c",
   "metadata": {},
   "source": [
    "x vērtības dalījuma ar 25 atlikumu kāpini kvadrātā?"
   ]
  },
  {
   "cell_type": "code",
   "execution_count": null,
   "id": "a3eca252",
   "metadata": {},
   "outputs": [],
   "source": []
  },
  {
   "cell_type": "markdown",
   "id": "15d621ee",
   "metadata": {},
   "source": [
    "Nosaki un izdrukā uz ekrāna, cik ciparu skaitlis ir x vērtība."
   ]
  },
  {
   "cell_type": "code",
   "execution_count": null,
   "id": "f0bd60cd",
   "metadata": {},
   "outputs": [],
   "source": []
  },
  {
   "cell_type": "markdown",
   "id": "04f447fa",
   "metadata": {},
   "source": [
    "Kāda ir skaitļa 43157 veidojošo ciparu maksimālā vērtība?"
   ]
  },
  {
   "cell_type": "code",
   "execution_count": null,
   "id": "19878383",
   "metadata": {},
   "outputs": [],
   "source": []
  },
  {
   "cell_type": "markdown",
   "id": "c33946b7",
   "metadata": {},
   "source": [
    "Izveidot sarakstu no 4 krāsām (jebkuras) un izprintēt pirmo un pēdējo krāsu sarakstā\n"
   ]
  },
  {
   "cell_type": "code",
   "execution_count": null,
   "id": "30f5109d",
   "metadata": {},
   "outputs": [],
   "source": []
  },
  {
   "cell_type": "markdown",
   "id": "0ba7d073",
   "metadata": {},
   "source": [
    "Nomaini x vērtību uz: sia \"riga coding school\" un izdrukāt uz ekrāna."
   ]
  },
  {
   "cell_type": "code",
   "execution_count": null,
   "id": "4ce10cef",
   "metadata": {},
   "outputs": [],
   "source": []
  },
  {
   "cell_type": "markdown",
   "id": "fc1be132",
   "metadata": {},
   "source": [
    "Izmantojot iespējamās string metodes transformē x vērtību uz \"Riga Coding School SIA\" (piešķir jauno vērtību mainīgajam x).  \n",
    "(vienkārši prasītās vērtības piešķiršana mainīgajam x šajā gadījumā nebūs pareizs risinājums 😉)"
   ]
  },
  {
   "cell_type": "code",
   "execution_count": null,
   "id": "f01ca824",
   "metadata": {},
   "outputs": [],
   "source": []
  },
  {
   "cell_type": "markdown",
   "id": "4ea4bf18",
   "metadata": {},
   "source": [
    "Izdrukā uz ekrāna, cik \"o\" burti ir dotajā nosaukumā?"
   ]
  },
  {
   "cell_type": "code",
   "execution_count": null,
   "id": "a7ff2d2c",
   "metadata": {},
   "outputs": [],
   "source": []
  },
  {
   "cell_type": "markdown",
   "id": "d591e8f4",
   "metadata": {},
   "source": [
    "Izdrukā uz ekrāna, cik vārdi ir dotajā nosaukumā?"
   ]
  },
  {
   "cell_type": "code",
   "execution_count": null,
   "id": "7701e95a",
   "metadata": {},
   "outputs": [],
   "source": []
  },
  {
   "cell_type": "markdown",
   "id": "32752d3a",
   "metadata": {},
   "source": [
    "Ekstraktēt no x vērtības un izdrukā uz ekrāna tikai \"Coding School\"."
   ]
  },
  {
   "cell_type": "code",
   "execution_count": null,
   "id": "d67278b7",
   "metadata": {},
   "outputs": [],
   "source": []
  },
  {
   "cell_type": "markdown",
   "id": "77986dc0",
   "metadata": {},
   "source": [
    "Pārbaudi vai mainīgā y vērtība ir (daļa) mainīgajā x."
   ]
  },
  {
   "cell_type": "code",
   "execution_count": null,
   "id": "625da79e",
   "metadata": {},
   "outputs": [],
   "source": [
    "x = 'sia \"Riga Coding School\"'\n",
    "y = \"coding\"\n",
    "\n",
    "# Tavs kods jāraksta šeit.\n"
   ]
  },
  {
   "cell_type": "markdown",
   "id": "f164196d",
   "metadata": {},
   "source": [
    "Izdrukāt uz ekrāna mainīgā x tekstā esošos vārdus (Riga Coding School SIA) reversā secībā."
   ]
  },
  {
   "cell_type": "code",
   "execution_count": null,
   "id": "5576fcba",
   "metadata": {},
   "outputs": [],
   "source": [
    "x = 'Riga Coding School SIA'\n",
    "\n",
    "# Tavs kods jāraksta šeit.\n"
   ]
  },
  {
   "cell_type": "markdown",
   "id": "374d1110",
   "metadata": {},
   "source": [
    "Apvieno divus sarakstus (lists) vienā (, kura kopējais garums ir abu sarakstu garuma summa)."
   ]
  },
  {
   "cell_type": "code",
   "execution_count": null,
   "id": "55341ca3",
   "metadata": {},
   "outputs": [],
   "source": [
    "f_list = [1, 2, 3]\n",
    "s_list = [4, 5, 6]\n",
    "\n",
    "# Tavs kods jāraksta šeit.\n"
   ]
  },
  {
   "cell_type": "markdown",
   "id": "b1435758",
   "metadata": {},
   "source": [
    "**Pareizā atbilde**: [1, 2, 3, 4, 5, 6]"
   ]
  },
  {
   "cell_type": "markdown",
   "id": "d80b8b7a",
   "metadata": {},
   "source": [
    "Pievieno pirmajam sarakstam otro kā 1 elementu."
   ]
  },
  {
   "cell_type": "code",
   "execution_count": null,
   "id": "93ca207f",
   "metadata": {},
   "outputs": [],
   "source": [
    "f_list = [1, 2, 3]\n",
    "s_list = [4, 5, 6]\n",
    "\n",
    "# Tavs kods jāraksta šeit.\n"
   ]
  },
  {
   "cell_type": "markdown",
   "id": "4efa7237",
   "metadata": {},
   "source": [
    "**Pareizā atbilde**: [1, 2, 3, [4, 5, 6]]"
   ]
  },
  {
   "cell_type": "markdown",
   "id": "e2ed7d4a",
   "metadata": {},
   "source": [
    "Saskaiti my_list pirmo elementu un pēdējā elementa pēdējo elementu."
   ]
  },
  {
   "cell_type": "code",
   "execution_count": null,
   "id": "d6123826",
   "metadata": {},
   "outputs": [],
   "source": [
    "my_list = [1, 2, 3, [4, 5, 6]]\n",
    "\n",
    "# Tavs kods jāraksta šeit.\n"
   ]
  },
  {
   "cell_type": "markdown",
   "id": "6df53591",
   "metadata": {},
   "source": [
    "**Pareizā atbilde**: 7"
   ]
  }
 ],
 "metadata": {
  "kernelspec": {
   "display_name": "Python 3 (ipykernel)",
   "language": "python",
   "name": "python3"
  },
  "language_info": {
   "codemirror_mode": {
    "name": "ipython",
    "version": 3
   },
   "file_extension": ".py",
   "mimetype": "text/x-python",
   "name": "python",
   "nbconvert_exporter": "python",
   "pygments_lexer": "ipython3",
   "version": "3.10.9"
  }
 },
 "nbformat": 4,
 "nbformat_minor": 5
}
